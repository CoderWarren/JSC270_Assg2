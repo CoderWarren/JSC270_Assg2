{
  "nbformat": 4,
  "nbformat_minor": 0,
  "metadata": {
    "colab": {
      "name": "JSC270_A2_Warren_Zhu.ipynb",
      "provenance": [],
      "collapsed_sections": [],
      "toc_visible": true
    },
    "kernelspec": {
      "name": "python3",
      "display_name": "Python 3"
    }
  },
  "cells": [
    {
      "cell_type": "markdown",
      "metadata": {
        "id": "HrecOYkd_rmG"
      },
      "source": [
        "JSC270H1 S\r\n",
        "\r\n",
        "Warren Zhu"
      ]
    },
    {
      "cell_type": "markdown",
      "metadata": {
        "id": "view-in-github"
      },
      "source": [
        "<a href=\"https://colab.research.google.com/github/larunerdman/JSC270_Assg2/blob/main/JSC270_Assignment2_starter_code.ipynb\" target=\"_parent\"><img src=\"https://colab.research.google.com/assets/colab-badge.svg\" alt=\"Open In Colab\"/></a>"
      ]
    },
    {
      "cell_type": "markdown",
      "metadata": {
        "id": "Dx3JcBg8VZ-a"
      },
      "source": [
        "###Libraries you'll likely need"
      ]
    },
    {
      "cell_type": "code",
      "metadata": {
        "id": "3I79uCwE3Sq8",
        "colab": {
          "base_uri": "https://localhost:8080/"
        },
        "outputId": "092b43c3-067b-4a93-e410-e9002f0af7b7"
      },
      "source": [
        "import pandas as pd\r\n",
        "import numpy as np\r\n",
        "import matplotlib.pyplot as plt\r\n",
        "import seaborn as sns\r\n",
        "from scipy import stats\r\n",
        "import statsmodels.api as sm\r\n",
        "import statsmodels.formula.api as smf"
      ],
      "execution_count": 1,
      "outputs": [
        {
          "output_type": "stream",
          "text": [
            "/usr/local/lib/python3.6/dist-packages/statsmodels/tools/_testing.py:19: FutureWarning: pandas.util.testing is deprecated. Use the functions in the public API at pandas.testing instead.\n",
            "  import pandas.util.testing as tm\n"
          ],
          "name": "stderr"
        }
      ]
    },
    {
      "cell_type": "markdown",
      "metadata": {
        "id": "9U0oB7HfVZ3g"
      },
      "source": [
        ""
      ]
    },
    {
      "cell_type": "markdown",
      "metadata": {
        "id": "X0oR7u9m-wO6"
      },
      "source": [
        "###Importing data"
      ]
    },
    {
      "cell_type": "code",
      "metadata": {
        "id": "f3jscp2H3Yqm"
      },
      "source": [
        "income94 = pd.read_csv('https://archive.ics.uci.edu/ml/machine-learning-databases/adult/adult.data', header=None)\r\n",
        "income94.columns = ['age','workclass', 'fnlwgt','education','education_num','marital_status','occupation',\r\n",
        "                    'relationship','race','sex','capital_gain','capital_loss','hours_per_week','native_country','gross_income_group']"
      ],
      "execution_count": 2,
      "outputs": []
    },
    {
      "cell_type": "markdown",
      "metadata": {
        "id": "T8RhsxluUf4c"
      },
      "source": [
        "#Initial Data Exploration:\r\n"
      ]
    },
    {
      "cell_type": "markdown",
      "metadata": {
        "id": "0SUng0UhU3m5"
      },
      "source": [
        "###Question 1:"
      ]
    },
    {
      "cell_type": "markdown",
      "metadata": {
        "id": "APp1oeJr7aSA"
      },
      "source": [
        "####Code:"
      ]
    },
    {
      "cell_type": "code",
      "metadata": {
        "colab": {
          "base_uri": "https://localhost:8080/"
        },
        "id": "-_TS_ZizRg3N",
        "outputId": "669ca4c8-0ac1-4670-f8c3-db5b4cdfc1d1"
      },
      "source": [
        "income94.info()"
      ],
      "execution_count": null,
      "outputs": [
        {
          "output_type": "stream",
          "text": [
            "<class 'pandas.core.frame.DataFrame'>\n",
            "RangeIndex: 32561 entries, 0 to 32560\n",
            "Data columns (total 15 columns):\n",
            " #   Column              Non-Null Count  Dtype \n",
            "---  ------              --------------  ----- \n",
            " 0   age                 32561 non-null  int64 \n",
            " 1   workclass           32561 non-null  object\n",
            " 2   fnlwgt              32561 non-null  int64 \n",
            " 3   education           32561 non-null  object\n",
            " 4   education_num       32561 non-null  int64 \n",
            " 5   marital_status      32561 non-null  object\n",
            " 6   occupation          32561 non-null  object\n",
            " 7   relationship        32561 non-null  object\n",
            " 8   race                32561 non-null  object\n",
            " 9   sex                 32561 non-null  object\n",
            " 10  capital_gain        32561 non-null  int64 \n",
            " 11  capital_loss        32561 non-null  int64 \n",
            " 12  hours_per_week      32561 non-null  int64 \n",
            " 13  native_country      32561 non-null  object\n",
            " 14  gross_income_group  32561 non-null  object\n",
            "dtypes: int64(6), object(9)\n",
            "memory usage: 3.7+ MB\n"
          ],
          "name": "stdout"
        }
      ]
    },
    {
      "cell_type": "code",
      "metadata": {
        "colab": {
          "base_uri": "https://localhost:8080/",
          "height": 282
        },
        "id": "CyADi6QJ_Sm-",
        "outputId": "91847f28-63b1-4e8e-d126-e9780aaa175e"
      },
      "source": [
        "income94.head()"
      ],
      "execution_count": null,
      "outputs": [
        {
          "output_type": "execute_result",
          "data": {
            "text/html": [
              "<div>\n",
              "<style scoped>\n",
              "    .dataframe tbody tr th:only-of-type {\n",
              "        vertical-align: middle;\n",
              "    }\n",
              "\n",
              "    .dataframe tbody tr th {\n",
              "        vertical-align: top;\n",
              "    }\n",
              "\n",
              "    .dataframe thead th {\n",
              "        text-align: right;\n",
              "    }\n",
              "</style>\n",
              "<table border=\"1\" class=\"dataframe\">\n",
              "  <thead>\n",
              "    <tr style=\"text-align: right;\">\n",
              "      <th></th>\n",
              "      <th>age</th>\n",
              "      <th>workclass</th>\n",
              "      <th>fnlwgt</th>\n",
              "      <th>education</th>\n",
              "      <th>education_num</th>\n",
              "      <th>marital_status</th>\n",
              "      <th>occupation</th>\n",
              "      <th>relationship</th>\n",
              "      <th>race</th>\n",
              "      <th>sex</th>\n",
              "      <th>capital_gain</th>\n",
              "      <th>capital_loss</th>\n",
              "      <th>hours_per_week</th>\n",
              "      <th>native_country</th>\n",
              "      <th>gross_income_group</th>\n",
              "    </tr>\n",
              "  </thead>\n",
              "  <tbody>\n",
              "    <tr>\n",
              "      <th>0</th>\n",
              "      <td>39</td>\n",
              "      <td>State-gov</td>\n",
              "      <td>77516</td>\n",
              "      <td>Bachelors</td>\n",
              "      <td>13</td>\n",
              "      <td>Never-married</td>\n",
              "      <td>Adm-clerical</td>\n",
              "      <td>Not-in-family</td>\n",
              "      <td>White</td>\n",
              "      <td>Male</td>\n",
              "      <td>2174</td>\n",
              "      <td>0</td>\n",
              "      <td>40</td>\n",
              "      <td>United-States</td>\n",
              "      <td>&lt;=50K</td>\n",
              "    </tr>\n",
              "    <tr>\n",
              "      <th>1</th>\n",
              "      <td>50</td>\n",
              "      <td>Self-emp-not-inc</td>\n",
              "      <td>83311</td>\n",
              "      <td>Bachelors</td>\n",
              "      <td>13</td>\n",
              "      <td>Married-civ-spouse</td>\n",
              "      <td>Exec-managerial</td>\n",
              "      <td>Husband</td>\n",
              "      <td>White</td>\n",
              "      <td>Male</td>\n",
              "      <td>0</td>\n",
              "      <td>0</td>\n",
              "      <td>13</td>\n",
              "      <td>United-States</td>\n",
              "      <td>&lt;=50K</td>\n",
              "    </tr>\n",
              "    <tr>\n",
              "      <th>2</th>\n",
              "      <td>38</td>\n",
              "      <td>Private</td>\n",
              "      <td>215646</td>\n",
              "      <td>HS-grad</td>\n",
              "      <td>9</td>\n",
              "      <td>Divorced</td>\n",
              "      <td>Handlers-cleaners</td>\n",
              "      <td>Not-in-family</td>\n",
              "      <td>White</td>\n",
              "      <td>Male</td>\n",
              "      <td>0</td>\n",
              "      <td>0</td>\n",
              "      <td>40</td>\n",
              "      <td>United-States</td>\n",
              "      <td>&lt;=50K</td>\n",
              "    </tr>\n",
              "    <tr>\n",
              "      <th>3</th>\n",
              "      <td>53</td>\n",
              "      <td>Private</td>\n",
              "      <td>234721</td>\n",
              "      <td>11th</td>\n",
              "      <td>7</td>\n",
              "      <td>Married-civ-spouse</td>\n",
              "      <td>Handlers-cleaners</td>\n",
              "      <td>Husband</td>\n",
              "      <td>Black</td>\n",
              "      <td>Male</td>\n",
              "      <td>0</td>\n",
              "      <td>0</td>\n",
              "      <td>40</td>\n",
              "      <td>United-States</td>\n",
              "      <td>&lt;=50K</td>\n",
              "    </tr>\n",
              "    <tr>\n",
              "      <th>4</th>\n",
              "      <td>28</td>\n",
              "      <td>Private</td>\n",
              "      <td>338409</td>\n",
              "      <td>Bachelors</td>\n",
              "      <td>13</td>\n",
              "      <td>Married-civ-spouse</td>\n",
              "      <td>Prof-specialty</td>\n",
              "      <td>Wife</td>\n",
              "      <td>Black</td>\n",
              "      <td>Female</td>\n",
              "      <td>0</td>\n",
              "      <td>0</td>\n",
              "      <td>40</td>\n",
              "      <td>Cuba</td>\n",
              "      <td>&lt;=50K</td>\n",
              "    </tr>\n",
              "  </tbody>\n",
              "</table>\n",
              "</div>"
            ],
            "text/plain": [
              "   age          workclass  ...  native_country gross_income_group\n",
              "0   39          State-gov  ...   United-States              <=50K\n",
              "1   50   Self-emp-not-inc  ...   United-States              <=50K\n",
              "2   38            Private  ...   United-States              <=50K\n",
              "3   53            Private  ...   United-States              <=50K\n",
              "4   28            Private  ...            Cuba              <=50K\n",
              "\n",
              "[5 rows x 15 columns]"
            ]
          },
          "metadata": {
            "tags": []
          },
          "execution_count": 31
        }
      ]
    },
    {
      "cell_type": "code",
      "metadata": {
        "colab": {
          "base_uri": "https://localhost:8080/"
        },
        "id": "ITRB5wf_-X-Y",
        "outputId": "4f057d7d-a93b-4776-9693-b15c2657759f"
      },
      "source": [
        "income94['education_num'].unique()"
      ],
      "execution_count": null,
      "outputs": [
        {
          "output_type": "execute_result",
          "data": {
            "text/plain": [
              "array([13,  9,  7, 14,  5, 10, 12, 11,  4, 16, 15,  3,  6,  2,  1,  8])"
            ]
          },
          "metadata": {
            "tags": []
          },
          "execution_count": 29
        }
      ]
    },
    {
      "cell_type": "code",
      "metadata": {
        "colab": {
          "base_uri": "https://localhost:8080/"
        },
        "id": "iXF2SkUa_egr",
        "outputId": "68118976-5947-44c2-bbb8-984fda00292e"
      },
      "source": [
        "income94['education'].unique()"
      ],
      "execution_count": null,
      "outputs": [
        {
          "output_type": "execute_result",
          "data": {
            "text/plain": [
              "array([' Bachelors', ' HS-grad', ' 11th', ' Masters', ' 9th',\n",
              "       ' Some-college', ' Assoc-acdm', ' Assoc-voc', ' 7th-8th',\n",
              "       ' Doctorate', ' Prof-school', ' 5th-6th', ' 10th', ' 1st-4th',\n",
              "       ' Preschool', ' 12th'], dtype=object)"
            ]
          },
          "metadata": {
            "tags": []
          },
          "execution_count": 32
        }
      ]
    },
    {
      "cell_type": "markdown",
      "metadata": {
        "id": "l4HIyGrO7V70"
      },
      "source": [
        "####Text:"
      ]
    },
    {
      "cell_type": "markdown",
      "metadata": {
        "id": "jjnnQ-dxboWl"
      },
      "source": [
        "The [text description of the data](https://archive.ics.uci.edu/ml/machine-learning-databases/adult/adult.name) explicitly states that:\r\n",
        "1. **age**, **fnlwgt**, **education_num**, **capital-gain**, **capital-loss**, **hours-per-week** are **continuous** variables.\r\n",
        "2. **workclass**, **education**, **marital-status**, **occupation**, **relationship**, **race**, **sex**, **native-country**, **gross_income_group** are **categorical** variables."
      ]
    },
    {
      "cell_type": "markdown",
      "metadata": {
        "id": "PYFI483oqSai"
      },
      "source": [
        "For the most part, these descriptions match the output of our command \"income94.info()\". However, it is crucial to have a closer look at education_num, as it is actually not a continuous variable. All it actually does is it stores a numerical label that is equivalent to the value stored in education_num. This can be seen in rows 0, 1, and 4 of our output of \"income94.head()\"."
      ]
    },
    {
      "cell_type": "markdown",
      "metadata": {
        "id": "GPtLfksBVFho"
      },
      "source": [
        "###Question 2:"
      ]
    },
    {
      "cell_type": "markdown",
      "metadata": {
        "id": "CO-LpVgs7IQ-"
      },
      "source": [
        "####Code (for representation):"
      ]
    },
    {
      "cell_type": "code",
      "metadata": {
        "id": "8IavQogObSQT",
        "colab": {
          "base_uri": "https://localhost:8080/",
          "height": 514
        },
        "outputId": "c25eb1ad-529e-47e9-85ac-ed856f59f779"
      },
      "source": [
        "income94.head(10)"
      ],
      "execution_count": null,
      "outputs": [
        {
          "output_type": "execute_result",
          "data": {
            "text/html": [
              "<div>\n",
              "<style scoped>\n",
              "    .dataframe tbody tr th:only-of-type {\n",
              "        vertical-align: middle;\n",
              "    }\n",
              "\n",
              "    .dataframe tbody tr th {\n",
              "        vertical-align: top;\n",
              "    }\n",
              "\n",
              "    .dataframe thead th {\n",
              "        text-align: right;\n",
              "    }\n",
              "</style>\n",
              "<table border=\"1\" class=\"dataframe\">\n",
              "  <thead>\n",
              "    <tr style=\"text-align: right;\">\n",
              "      <th></th>\n",
              "      <th>age</th>\n",
              "      <th>workclass</th>\n",
              "      <th>fnlwgt</th>\n",
              "      <th>education</th>\n",
              "      <th>education_num</th>\n",
              "      <th>marital_status</th>\n",
              "      <th>occupation</th>\n",
              "      <th>relationship</th>\n",
              "      <th>race</th>\n",
              "      <th>sex</th>\n",
              "      <th>capital_gain</th>\n",
              "      <th>capital_loss</th>\n",
              "      <th>hours_per_week</th>\n",
              "      <th>native_country</th>\n",
              "      <th>gross_income_group</th>\n",
              "    </tr>\n",
              "  </thead>\n",
              "  <tbody>\n",
              "    <tr>\n",
              "      <th>0</th>\n",
              "      <td>39</td>\n",
              "      <td>State-gov</td>\n",
              "      <td>77516</td>\n",
              "      <td>Bachelors</td>\n",
              "      <td>13</td>\n",
              "      <td>Never-married</td>\n",
              "      <td>Adm-clerical</td>\n",
              "      <td>Not-in-family</td>\n",
              "      <td>White</td>\n",
              "      <td>Male</td>\n",
              "      <td>2174</td>\n",
              "      <td>0</td>\n",
              "      <td>40</td>\n",
              "      <td>United-States</td>\n",
              "      <td>&lt;=50K</td>\n",
              "    </tr>\n",
              "    <tr>\n",
              "      <th>1</th>\n",
              "      <td>50</td>\n",
              "      <td>Self-emp-not-inc</td>\n",
              "      <td>83311</td>\n",
              "      <td>Bachelors</td>\n",
              "      <td>13</td>\n",
              "      <td>Married-civ-spouse</td>\n",
              "      <td>Exec-managerial</td>\n",
              "      <td>Husband</td>\n",
              "      <td>White</td>\n",
              "      <td>Male</td>\n",
              "      <td>0</td>\n",
              "      <td>0</td>\n",
              "      <td>13</td>\n",
              "      <td>United-States</td>\n",
              "      <td>&lt;=50K</td>\n",
              "    </tr>\n",
              "    <tr>\n",
              "      <th>2</th>\n",
              "      <td>38</td>\n",
              "      <td>Private</td>\n",
              "      <td>215646</td>\n",
              "      <td>HS-grad</td>\n",
              "      <td>9</td>\n",
              "      <td>Divorced</td>\n",
              "      <td>Handlers-cleaners</td>\n",
              "      <td>Not-in-family</td>\n",
              "      <td>White</td>\n",
              "      <td>Male</td>\n",
              "      <td>0</td>\n",
              "      <td>0</td>\n",
              "      <td>40</td>\n",
              "      <td>United-States</td>\n",
              "      <td>&lt;=50K</td>\n",
              "    </tr>\n",
              "    <tr>\n",
              "      <th>3</th>\n",
              "      <td>53</td>\n",
              "      <td>Private</td>\n",
              "      <td>234721</td>\n",
              "      <td>11th</td>\n",
              "      <td>7</td>\n",
              "      <td>Married-civ-spouse</td>\n",
              "      <td>Handlers-cleaners</td>\n",
              "      <td>Husband</td>\n",
              "      <td>Black</td>\n",
              "      <td>Male</td>\n",
              "      <td>0</td>\n",
              "      <td>0</td>\n",
              "      <td>40</td>\n",
              "      <td>United-States</td>\n",
              "      <td>&lt;=50K</td>\n",
              "    </tr>\n",
              "    <tr>\n",
              "      <th>4</th>\n",
              "      <td>28</td>\n",
              "      <td>Private</td>\n",
              "      <td>338409</td>\n",
              "      <td>Bachelors</td>\n",
              "      <td>13</td>\n",
              "      <td>Married-civ-spouse</td>\n",
              "      <td>Prof-specialty</td>\n",
              "      <td>Wife</td>\n",
              "      <td>Black</td>\n",
              "      <td>Female</td>\n",
              "      <td>0</td>\n",
              "      <td>0</td>\n",
              "      <td>40</td>\n",
              "      <td>Cuba</td>\n",
              "      <td>&lt;=50K</td>\n",
              "    </tr>\n",
              "    <tr>\n",
              "      <th>5</th>\n",
              "      <td>37</td>\n",
              "      <td>Private</td>\n",
              "      <td>284582</td>\n",
              "      <td>Masters</td>\n",
              "      <td>14</td>\n",
              "      <td>Married-civ-spouse</td>\n",
              "      <td>Exec-managerial</td>\n",
              "      <td>Wife</td>\n",
              "      <td>White</td>\n",
              "      <td>Female</td>\n",
              "      <td>0</td>\n",
              "      <td>0</td>\n",
              "      <td>40</td>\n",
              "      <td>United-States</td>\n",
              "      <td>&lt;=50K</td>\n",
              "    </tr>\n",
              "    <tr>\n",
              "      <th>6</th>\n",
              "      <td>49</td>\n",
              "      <td>Private</td>\n",
              "      <td>160187</td>\n",
              "      <td>9th</td>\n",
              "      <td>5</td>\n",
              "      <td>Married-spouse-absent</td>\n",
              "      <td>Other-service</td>\n",
              "      <td>Not-in-family</td>\n",
              "      <td>Black</td>\n",
              "      <td>Female</td>\n",
              "      <td>0</td>\n",
              "      <td>0</td>\n",
              "      <td>16</td>\n",
              "      <td>Jamaica</td>\n",
              "      <td>&lt;=50K</td>\n",
              "    </tr>\n",
              "    <tr>\n",
              "      <th>7</th>\n",
              "      <td>52</td>\n",
              "      <td>Self-emp-not-inc</td>\n",
              "      <td>209642</td>\n",
              "      <td>HS-grad</td>\n",
              "      <td>9</td>\n",
              "      <td>Married-civ-spouse</td>\n",
              "      <td>Exec-managerial</td>\n",
              "      <td>Husband</td>\n",
              "      <td>White</td>\n",
              "      <td>Male</td>\n",
              "      <td>0</td>\n",
              "      <td>0</td>\n",
              "      <td>45</td>\n",
              "      <td>United-States</td>\n",
              "      <td>&gt;50K</td>\n",
              "    </tr>\n",
              "    <tr>\n",
              "      <th>8</th>\n",
              "      <td>31</td>\n",
              "      <td>Private</td>\n",
              "      <td>45781</td>\n",
              "      <td>Masters</td>\n",
              "      <td>14</td>\n",
              "      <td>Never-married</td>\n",
              "      <td>Prof-specialty</td>\n",
              "      <td>Not-in-family</td>\n",
              "      <td>White</td>\n",
              "      <td>Female</td>\n",
              "      <td>14084</td>\n",
              "      <td>0</td>\n",
              "      <td>50</td>\n",
              "      <td>United-States</td>\n",
              "      <td>&gt;50K</td>\n",
              "    </tr>\n",
              "    <tr>\n",
              "      <th>9</th>\n",
              "      <td>42</td>\n",
              "      <td>Private</td>\n",
              "      <td>159449</td>\n",
              "      <td>Bachelors</td>\n",
              "      <td>13</td>\n",
              "      <td>Married-civ-spouse</td>\n",
              "      <td>Exec-managerial</td>\n",
              "      <td>Husband</td>\n",
              "      <td>White</td>\n",
              "      <td>Male</td>\n",
              "      <td>5178</td>\n",
              "      <td>0</td>\n",
              "      <td>40</td>\n",
              "      <td>United-States</td>\n",
              "      <td>&gt;50K</td>\n",
              "    </tr>\n",
              "  </tbody>\n",
              "</table>\n",
              "</div>"
            ],
            "text/plain": [
              "   age          workclass  ...  native_country gross_income_group\n",
              "0   39          State-gov  ...   United-States              <=50K\n",
              "1   50   Self-emp-not-inc  ...   United-States              <=50K\n",
              "2   38            Private  ...   United-States              <=50K\n",
              "3   53            Private  ...   United-States              <=50K\n",
              "4   28            Private  ...            Cuba              <=50K\n",
              "5   37            Private  ...   United-States              <=50K\n",
              "6   49            Private  ...         Jamaica              <=50K\n",
              "7   52   Self-emp-not-inc  ...   United-States               >50K\n",
              "8   31            Private  ...   United-States               >50K\n",
              "9   42            Private  ...   United-States               >50K\n",
              "\n",
              "[10 rows x 15 columns]"
            ]
          },
          "metadata": {
            "tags": []
          },
          "execution_count": 34
        }
      ]
    },
    {
      "cell_type": "code",
      "metadata": {
        "colab": {
          "base_uri": "https://localhost:8080/"
        },
        "id": "fm3yCzgb4K1X",
        "outputId": "db4b71d0-7e90-4260-dcbc-0ff453328c82"
      },
      "source": [
        "income94['workclass'].unique()"
      ],
      "execution_count": null,
      "outputs": [
        {
          "output_type": "execute_result",
          "data": {
            "text/plain": [
              "array([' State-gov', ' Self-emp-not-inc', ' Private', ' Federal-gov',\n",
              "       ' Local-gov', ' ?', ' Self-emp-inc', ' Without-pay',\n",
              "       ' Never-worked'], dtype=object)"
            ]
          },
          "metadata": {
            "tags": []
          },
          "execution_count": 18
        }
      ]
    },
    {
      "cell_type": "code",
      "metadata": {
        "colab": {
          "base_uri": "https://localhost:8080/"
        },
        "id": "Ft9h_y2E5ehs",
        "outputId": "8aa496bb-7d13-4a9d-9777-65e530388c94"
      },
      "source": [
        "income94['education'].unique()"
      ],
      "execution_count": null,
      "outputs": [
        {
          "output_type": "execute_result",
          "data": {
            "text/plain": [
              "array([' Bachelors', ' HS-grad', ' 11th', ' Masters', ' 9th',\n",
              "       ' Some-college', ' Assoc-acdm', ' Assoc-voc', ' 7th-8th',\n",
              "       ' Doctorate', ' Prof-school', ' 5th-6th', ' 10th', ' 1st-4th',\n",
              "       ' Preschool', ' 12th'], dtype=object)"
            ]
          },
          "metadata": {
            "tags": []
          },
          "execution_count": 20
        }
      ]
    },
    {
      "cell_type": "code",
      "metadata": {
        "colab": {
          "base_uri": "https://localhost:8080/"
        },
        "id": "d621-Nis-EPN",
        "outputId": "095944cb-2a26-4718-ff21-b686c8ab188f"
      },
      "source": [
        "income94['education_num'].unique()"
      ],
      "execution_count": null,
      "outputs": [
        {
          "output_type": "execute_result",
          "data": {
            "text/plain": [
              "array([13,  9,  7, 14,  5, 10, 12, 11,  4, 16, 15,  3,  6,  2,  1,  8])"
            ]
          },
          "metadata": {
            "tags": []
          },
          "execution_count": 28
        }
      ]
    },
    {
      "cell_type": "code",
      "metadata": {
        "colab": {
          "base_uri": "https://localhost:8080/"
        },
        "id": "qbkwDdGl5rkh",
        "outputId": "b12bd061-b828-4f6a-ca2f-962681101a83"
      },
      "source": [
        "income94['marital_status'].unique()"
      ],
      "execution_count": null,
      "outputs": [
        {
          "output_type": "execute_result",
          "data": {
            "text/plain": [
              "array([' Never-married', ' Married-civ-spouse', ' Divorced',\n",
              "       ' Married-spouse-absent', ' Separated', ' Married-AF-spouse',\n",
              "       ' Widowed'], dtype=object)"
            ]
          },
          "metadata": {
            "tags": []
          },
          "execution_count": 21
        }
      ]
    },
    {
      "cell_type": "code",
      "metadata": {
        "colab": {
          "base_uri": "https://localhost:8080/"
        },
        "id": "964aRto450ip",
        "outputId": "a5bf9ef9-17d7-4fc9-c932-b46418b5f45b"
      },
      "source": [
        "income94['occupation'].unique()"
      ],
      "execution_count": null,
      "outputs": [
        {
          "output_type": "execute_result",
          "data": {
            "text/plain": [
              "array([' Adm-clerical', ' Exec-managerial', ' Handlers-cleaners',\n",
              "       ' Prof-specialty', ' Other-service', ' Sales', ' Craft-repair',\n",
              "       ' Transport-moving', ' Farming-fishing', ' Machine-op-inspct',\n",
              "       ' Tech-support', ' ?', ' Protective-serv', ' Armed-Forces',\n",
              "       ' Priv-house-serv'], dtype=object)"
            ]
          },
          "metadata": {
            "tags": []
          },
          "execution_count": 22
        }
      ]
    },
    {
      "cell_type": "code",
      "metadata": {
        "colab": {
          "base_uri": "https://localhost:8080/"
        },
        "id": "eZ7L3NTF56al",
        "outputId": "ce643bd4-f225-4b8b-fe34-38126e574b93"
      },
      "source": [
        "income94['relationship'].unique()"
      ],
      "execution_count": null,
      "outputs": [
        {
          "output_type": "execute_result",
          "data": {
            "text/plain": [
              "array([' Not-in-family', ' Husband', ' Wife', ' Own-child', ' Unmarried',\n",
              "       ' Other-relative'], dtype=object)"
            ]
          },
          "metadata": {
            "tags": []
          },
          "execution_count": 23
        }
      ]
    },
    {
      "cell_type": "code",
      "metadata": {
        "colab": {
          "base_uri": "https://localhost:8080/"
        },
        "id": "a0kf0jaC5-kw",
        "outputId": "74b14858-d68d-429f-d109-1e1e937830c4"
      },
      "source": [
        "income94['race'].unique()"
      ],
      "execution_count": null,
      "outputs": [
        {
          "output_type": "execute_result",
          "data": {
            "text/plain": [
              "array([' White', ' Black', ' Asian-Pac-Islander', ' Amer-Indian-Eskimo',\n",
              "       ' Other'], dtype=object)"
            ]
          },
          "metadata": {
            "tags": []
          },
          "execution_count": 24
        }
      ]
    },
    {
      "cell_type": "code",
      "metadata": {
        "colab": {
          "base_uri": "https://localhost:8080/"
        },
        "id": "DAwmZaXR6DeQ",
        "outputId": "f5c9ed76-c2da-447e-cbf3-b3b65b4ca5f4"
      },
      "source": [
        "income94['sex'].unique()"
      ],
      "execution_count": null,
      "outputs": [
        {
          "output_type": "execute_result",
          "data": {
            "text/plain": [
              "array([' Male', ' Female'], dtype=object)"
            ]
          },
          "metadata": {
            "tags": []
          },
          "execution_count": 25
        }
      ]
    },
    {
      "cell_type": "code",
      "metadata": {
        "colab": {
          "base_uri": "https://localhost:8080/"
        },
        "id": "tAXf2aFE6L7F",
        "outputId": "8d34f569-65cc-4c0d-ff84-39e5e7044f9e"
      },
      "source": [
        "income94['native_country'].unique()"
      ],
      "execution_count": null,
      "outputs": [
        {
          "output_type": "execute_result",
          "data": {
            "text/plain": [
              "array([' United-States', ' Cuba', ' Jamaica', ' India', ' ?', ' Mexico',\n",
              "       ' South', ' Puerto-Rico', ' Honduras', ' England', ' Canada',\n",
              "       ' Germany', ' Iran', ' Philippines', ' Italy', ' Poland',\n",
              "       ' Columbia', ' Cambodia', ' Thailand', ' Ecuador', ' Laos',\n",
              "       ' Taiwan', ' Haiti', ' Portugal', ' Dominican-Republic',\n",
              "       ' El-Salvador', ' France', ' Guatemala', ' China', ' Japan',\n",
              "       ' Yugoslavia', ' Peru', ' Outlying-US(Guam-USVI-etc)', ' Scotland',\n",
              "       ' Trinadad&Tobago', ' Greece', ' Nicaragua', ' Vietnam', ' Hong',\n",
              "       ' Ireland', ' Hungary', ' Holand-Netherlands'], dtype=object)"
            ]
          },
          "metadata": {
            "tags": []
          },
          "execution_count": 26
        }
      ]
    },
    {
      "cell_type": "code",
      "metadata": {
        "colab": {
          "base_uri": "https://localhost:8080/"
        },
        "id": "rSpptRmf6XFd",
        "outputId": "326157af-e3a5-40de-ec0a-477346f982a2"
      },
      "source": [
        "income94['gross_income_group'].unique()"
      ],
      "execution_count": null,
      "outputs": [
        {
          "output_type": "execute_result",
          "data": {
            "text/plain": [
              "array([' <=50K', ' >50K'], dtype=object)"
            ]
          },
          "metadata": {
            "tags": []
          },
          "execution_count": 27
        }
      ]
    },
    {
      "cell_type": "markdown",
      "metadata": {
        "id": "GpPpBvpq7iu_"
      },
      "source": [
        "####Text (for representation):"
      ]
    },
    {
      "cell_type": "markdown",
      "metadata": {
        "id": "saX1uHVvfNj1"
      },
      "source": [
        "By looking at the unique values (i.e., the output of our \".unique()\" function) for our categorical variables, and the first few datapoints (i.e.,output of the \".head(20)\" function) of our dataframe, we can see that the missing values for:\r\n",
        "1. **age** does not appear to have missing values.\r\n",
        "2. **workclass** is represented by a '?'.\r\n",
        "3. **fnlwgt** does not appear to have missing values.\r\n",
        "4. **education** does not appear to have missing values.\r\n",
        "5. **education_num** does not appear to have missing values.\r\n",
        "6. **marital_status**  does not appear to have missing values.\r\n",
        "7. **occupation** is represented by a '?'.\r\n",
        "8. **relationship** does not appear to have missing values.\r\n",
        "9. **race** does not appear to have missing values.\r\n",
        "10. **sex** does not appear to have missing values.\r\n",
        "11. **capital_gain** *may* have some missing values. If this is the case, it is represented with a '0'. See the note below.\r\n",
        "12. **capital_loss** *may* to have some missing values. If this is the case, it is represented with a '0'. See the note below.\r\n",
        "13. **hours_per_week** does not appear to be missing values.\r\n",
        "14. **native_country** is represented by a '?'.\r\n",
        "15. **gross_income_group** does not appear to have missing values."
      ]
    },
    {
      "cell_type": "markdown",
      "metadata": {
        "id": "px2n8OfCN-OJ"
      },
      "source": [
        "**[NOTE:]**\r\n",
        "Note that capital_loss and capital_gain are two odd variables that are intertwined--if capital_loss is nonzero, then capital_gain is guaranteed to be zero, and vice versa. There are certain data points that happen to have 0 for both though--this *may* represent that the capital hasn't changed, but it could also represent that there's missing data. For now, we'll just assume it's the first case."
      ]
    },
    {
      "cell_type": "markdown",
      "metadata": {
        "id": "hPgeRFyVQAh9"
      },
      "source": [
        "####Code (for casting and counting):"
      ]
    },
    {
      "cell_type": "code",
      "metadata": {
        "colab": {
          "base_uri": "https://localhost:8080/",
          "height": 1000
        },
        "id": "UaUmxRg_rcGY",
        "outputId": "562ea6ca-5e69-40db-fe19-32b78432889f"
      },
      "source": [
        "## First, let's cast.\r\n",
        "\r\n",
        "## We will create a new dataframe for the data.\r\n",
        "## This was done because there was a bug that prevented replace from otherwise working properly\r\n",
        "## Source: https://stackoverflow.com/questions/29247712/how-to-replace-a-value-in-pandas-with-nan\r\n",
        "\r\n",
        "income_v2 = pd.read_csv('https://archive.ics.uci.edu/ml/machine-learning-databases/adult/adult.data', header=None, sep=',\\s')\r\n",
        "\r\n",
        "## Set the columns\r\n",
        "\r\n",
        "income_v2.columns = ['age','workclass', 'fnlwgt','education','education_num','marital_status','occupation',\r\n",
        "                    'relationship','race','sex','capital_gain','capital_loss','hours_per_week','native_country','gross_income_group']\r\n",
        "\r\n",
        "## Now use the replace function\r\n",
        "income_v2.replace('?', np.nan, inplace = True)\r\n",
        "\r\n",
        "##Double check to see if it worked\r\n",
        "income_v2.head(20)\r\n",
        "\r\n",
        "##We can see it did from observation 14's 'native_country' value!"
      ],
      "execution_count": 3,
      "outputs": [
        {
          "output_type": "stream",
          "text": [
            "/usr/local/lib/python3.6/dist-packages/ipykernel_launcher.py:7: ParserWarning: Falling back to the 'python' engine because the 'c' engine does not support regex separators (separators > 1 char and different from '\\s+' are interpreted as regex); you can avoid this warning by specifying engine='python'.\n",
            "  import sys\n"
          ],
          "name": "stderr"
        },
        {
          "output_type": "execute_result",
          "data": {
            "text/html": [
              "<div>\n",
              "<style scoped>\n",
              "    .dataframe tbody tr th:only-of-type {\n",
              "        vertical-align: middle;\n",
              "    }\n",
              "\n",
              "    .dataframe tbody tr th {\n",
              "        vertical-align: top;\n",
              "    }\n",
              "\n",
              "    .dataframe thead th {\n",
              "        text-align: right;\n",
              "    }\n",
              "</style>\n",
              "<table border=\"1\" class=\"dataframe\">\n",
              "  <thead>\n",
              "    <tr style=\"text-align: right;\">\n",
              "      <th></th>\n",
              "      <th>age</th>\n",
              "      <th>workclass</th>\n",
              "      <th>fnlwgt</th>\n",
              "      <th>education</th>\n",
              "      <th>education_num</th>\n",
              "      <th>marital_status</th>\n",
              "      <th>occupation</th>\n",
              "      <th>relationship</th>\n",
              "      <th>race</th>\n",
              "      <th>sex</th>\n",
              "      <th>capital_gain</th>\n",
              "      <th>capital_loss</th>\n",
              "      <th>hours_per_week</th>\n",
              "      <th>native_country</th>\n",
              "      <th>gross_income_group</th>\n",
              "    </tr>\n",
              "  </thead>\n",
              "  <tbody>\n",
              "    <tr>\n",
              "      <th>0</th>\n",
              "      <td>39</td>\n",
              "      <td>State-gov</td>\n",
              "      <td>77516</td>\n",
              "      <td>Bachelors</td>\n",
              "      <td>13</td>\n",
              "      <td>Never-married</td>\n",
              "      <td>Adm-clerical</td>\n",
              "      <td>Not-in-family</td>\n",
              "      <td>White</td>\n",
              "      <td>Male</td>\n",
              "      <td>2174</td>\n",
              "      <td>0</td>\n",
              "      <td>40</td>\n",
              "      <td>United-States</td>\n",
              "      <td>&lt;=50K</td>\n",
              "    </tr>\n",
              "    <tr>\n",
              "      <th>1</th>\n",
              "      <td>50</td>\n",
              "      <td>Self-emp-not-inc</td>\n",
              "      <td>83311</td>\n",
              "      <td>Bachelors</td>\n",
              "      <td>13</td>\n",
              "      <td>Married-civ-spouse</td>\n",
              "      <td>Exec-managerial</td>\n",
              "      <td>Husband</td>\n",
              "      <td>White</td>\n",
              "      <td>Male</td>\n",
              "      <td>0</td>\n",
              "      <td>0</td>\n",
              "      <td>13</td>\n",
              "      <td>United-States</td>\n",
              "      <td>&lt;=50K</td>\n",
              "    </tr>\n",
              "    <tr>\n",
              "      <th>2</th>\n",
              "      <td>38</td>\n",
              "      <td>Private</td>\n",
              "      <td>215646</td>\n",
              "      <td>HS-grad</td>\n",
              "      <td>9</td>\n",
              "      <td>Divorced</td>\n",
              "      <td>Handlers-cleaners</td>\n",
              "      <td>Not-in-family</td>\n",
              "      <td>White</td>\n",
              "      <td>Male</td>\n",
              "      <td>0</td>\n",
              "      <td>0</td>\n",
              "      <td>40</td>\n",
              "      <td>United-States</td>\n",
              "      <td>&lt;=50K</td>\n",
              "    </tr>\n",
              "    <tr>\n",
              "      <th>3</th>\n",
              "      <td>53</td>\n",
              "      <td>Private</td>\n",
              "      <td>234721</td>\n",
              "      <td>11th</td>\n",
              "      <td>7</td>\n",
              "      <td>Married-civ-spouse</td>\n",
              "      <td>Handlers-cleaners</td>\n",
              "      <td>Husband</td>\n",
              "      <td>Black</td>\n",
              "      <td>Male</td>\n",
              "      <td>0</td>\n",
              "      <td>0</td>\n",
              "      <td>40</td>\n",
              "      <td>United-States</td>\n",
              "      <td>&lt;=50K</td>\n",
              "    </tr>\n",
              "    <tr>\n",
              "      <th>4</th>\n",
              "      <td>28</td>\n",
              "      <td>Private</td>\n",
              "      <td>338409</td>\n",
              "      <td>Bachelors</td>\n",
              "      <td>13</td>\n",
              "      <td>Married-civ-spouse</td>\n",
              "      <td>Prof-specialty</td>\n",
              "      <td>Wife</td>\n",
              "      <td>Black</td>\n",
              "      <td>Female</td>\n",
              "      <td>0</td>\n",
              "      <td>0</td>\n",
              "      <td>40</td>\n",
              "      <td>Cuba</td>\n",
              "      <td>&lt;=50K</td>\n",
              "    </tr>\n",
              "    <tr>\n",
              "      <th>5</th>\n",
              "      <td>37</td>\n",
              "      <td>Private</td>\n",
              "      <td>284582</td>\n",
              "      <td>Masters</td>\n",
              "      <td>14</td>\n",
              "      <td>Married-civ-spouse</td>\n",
              "      <td>Exec-managerial</td>\n",
              "      <td>Wife</td>\n",
              "      <td>White</td>\n",
              "      <td>Female</td>\n",
              "      <td>0</td>\n",
              "      <td>0</td>\n",
              "      <td>40</td>\n",
              "      <td>United-States</td>\n",
              "      <td>&lt;=50K</td>\n",
              "    </tr>\n",
              "    <tr>\n",
              "      <th>6</th>\n",
              "      <td>49</td>\n",
              "      <td>Private</td>\n",
              "      <td>160187</td>\n",
              "      <td>9th</td>\n",
              "      <td>5</td>\n",
              "      <td>Married-spouse-absent</td>\n",
              "      <td>Other-service</td>\n",
              "      <td>Not-in-family</td>\n",
              "      <td>Black</td>\n",
              "      <td>Female</td>\n",
              "      <td>0</td>\n",
              "      <td>0</td>\n",
              "      <td>16</td>\n",
              "      <td>Jamaica</td>\n",
              "      <td>&lt;=50K</td>\n",
              "    </tr>\n",
              "    <tr>\n",
              "      <th>7</th>\n",
              "      <td>52</td>\n",
              "      <td>Self-emp-not-inc</td>\n",
              "      <td>209642</td>\n",
              "      <td>HS-grad</td>\n",
              "      <td>9</td>\n",
              "      <td>Married-civ-spouse</td>\n",
              "      <td>Exec-managerial</td>\n",
              "      <td>Husband</td>\n",
              "      <td>White</td>\n",
              "      <td>Male</td>\n",
              "      <td>0</td>\n",
              "      <td>0</td>\n",
              "      <td>45</td>\n",
              "      <td>United-States</td>\n",
              "      <td>&gt;50K</td>\n",
              "    </tr>\n",
              "    <tr>\n",
              "      <th>8</th>\n",
              "      <td>31</td>\n",
              "      <td>Private</td>\n",
              "      <td>45781</td>\n",
              "      <td>Masters</td>\n",
              "      <td>14</td>\n",
              "      <td>Never-married</td>\n",
              "      <td>Prof-specialty</td>\n",
              "      <td>Not-in-family</td>\n",
              "      <td>White</td>\n",
              "      <td>Female</td>\n",
              "      <td>14084</td>\n",
              "      <td>0</td>\n",
              "      <td>50</td>\n",
              "      <td>United-States</td>\n",
              "      <td>&gt;50K</td>\n",
              "    </tr>\n",
              "    <tr>\n",
              "      <th>9</th>\n",
              "      <td>42</td>\n",
              "      <td>Private</td>\n",
              "      <td>159449</td>\n",
              "      <td>Bachelors</td>\n",
              "      <td>13</td>\n",
              "      <td>Married-civ-spouse</td>\n",
              "      <td>Exec-managerial</td>\n",
              "      <td>Husband</td>\n",
              "      <td>White</td>\n",
              "      <td>Male</td>\n",
              "      <td>5178</td>\n",
              "      <td>0</td>\n",
              "      <td>40</td>\n",
              "      <td>United-States</td>\n",
              "      <td>&gt;50K</td>\n",
              "    </tr>\n",
              "    <tr>\n",
              "      <th>10</th>\n",
              "      <td>37</td>\n",
              "      <td>Private</td>\n",
              "      <td>280464</td>\n",
              "      <td>Some-college</td>\n",
              "      <td>10</td>\n",
              "      <td>Married-civ-spouse</td>\n",
              "      <td>Exec-managerial</td>\n",
              "      <td>Husband</td>\n",
              "      <td>Black</td>\n",
              "      <td>Male</td>\n",
              "      <td>0</td>\n",
              "      <td>0</td>\n",
              "      <td>80</td>\n",
              "      <td>United-States</td>\n",
              "      <td>&gt;50K</td>\n",
              "    </tr>\n",
              "    <tr>\n",
              "      <th>11</th>\n",
              "      <td>30</td>\n",
              "      <td>State-gov</td>\n",
              "      <td>141297</td>\n",
              "      <td>Bachelors</td>\n",
              "      <td>13</td>\n",
              "      <td>Married-civ-spouse</td>\n",
              "      <td>Prof-specialty</td>\n",
              "      <td>Husband</td>\n",
              "      <td>Asian-Pac-Islander</td>\n",
              "      <td>Male</td>\n",
              "      <td>0</td>\n",
              "      <td>0</td>\n",
              "      <td>40</td>\n",
              "      <td>India</td>\n",
              "      <td>&gt;50K</td>\n",
              "    </tr>\n",
              "    <tr>\n",
              "      <th>12</th>\n",
              "      <td>23</td>\n",
              "      <td>Private</td>\n",
              "      <td>122272</td>\n",
              "      <td>Bachelors</td>\n",
              "      <td>13</td>\n",
              "      <td>Never-married</td>\n",
              "      <td>Adm-clerical</td>\n",
              "      <td>Own-child</td>\n",
              "      <td>White</td>\n",
              "      <td>Female</td>\n",
              "      <td>0</td>\n",
              "      <td>0</td>\n",
              "      <td>30</td>\n",
              "      <td>United-States</td>\n",
              "      <td>&lt;=50K</td>\n",
              "    </tr>\n",
              "    <tr>\n",
              "      <th>13</th>\n",
              "      <td>32</td>\n",
              "      <td>Private</td>\n",
              "      <td>205019</td>\n",
              "      <td>Assoc-acdm</td>\n",
              "      <td>12</td>\n",
              "      <td>Never-married</td>\n",
              "      <td>Sales</td>\n",
              "      <td>Not-in-family</td>\n",
              "      <td>Black</td>\n",
              "      <td>Male</td>\n",
              "      <td>0</td>\n",
              "      <td>0</td>\n",
              "      <td>50</td>\n",
              "      <td>United-States</td>\n",
              "      <td>&lt;=50K</td>\n",
              "    </tr>\n",
              "    <tr>\n",
              "      <th>14</th>\n",
              "      <td>40</td>\n",
              "      <td>Private</td>\n",
              "      <td>121772</td>\n",
              "      <td>Assoc-voc</td>\n",
              "      <td>11</td>\n",
              "      <td>Married-civ-spouse</td>\n",
              "      <td>Craft-repair</td>\n",
              "      <td>Husband</td>\n",
              "      <td>Asian-Pac-Islander</td>\n",
              "      <td>Male</td>\n",
              "      <td>0</td>\n",
              "      <td>0</td>\n",
              "      <td>40</td>\n",
              "      <td>NaN</td>\n",
              "      <td>&gt;50K</td>\n",
              "    </tr>\n",
              "    <tr>\n",
              "      <th>15</th>\n",
              "      <td>34</td>\n",
              "      <td>Private</td>\n",
              "      <td>245487</td>\n",
              "      <td>7th-8th</td>\n",
              "      <td>4</td>\n",
              "      <td>Married-civ-spouse</td>\n",
              "      <td>Transport-moving</td>\n",
              "      <td>Husband</td>\n",
              "      <td>Amer-Indian-Eskimo</td>\n",
              "      <td>Male</td>\n",
              "      <td>0</td>\n",
              "      <td>0</td>\n",
              "      <td>45</td>\n",
              "      <td>Mexico</td>\n",
              "      <td>&lt;=50K</td>\n",
              "    </tr>\n",
              "    <tr>\n",
              "      <th>16</th>\n",
              "      <td>25</td>\n",
              "      <td>Self-emp-not-inc</td>\n",
              "      <td>176756</td>\n",
              "      <td>HS-grad</td>\n",
              "      <td>9</td>\n",
              "      <td>Never-married</td>\n",
              "      <td>Farming-fishing</td>\n",
              "      <td>Own-child</td>\n",
              "      <td>White</td>\n",
              "      <td>Male</td>\n",
              "      <td>0</td>\n",
              "      <td>0</td>\n",
              "      <td>35</td>\n",
              "      <td>United-States</td>\n",
              "      <td>&lt;=50K</td>\n",
              "    </tr>\n",
              "    <tr>\n",
              "      <th>17</th>\n",
              "      <td>32</td>\n",
              "      <td>Private</td>\n",
              "      <td>186824</td>\n",
              "      <td>HS-grad</td>\n",
              "      <td>9</td>\n",
              "      <td>Never-married</td>\n",
              "      <td>Machine-op-inspct</td>\n",
              "      <td>Unmarried</td>\n",
              "      <td>White</td>\n",
              "      <td>Male</td>\n",
              "      <td>0</td>\n",
              "      <td>0</td>\n",
              "      <td>40</td>\n",
              "      <td>United-States</td>\n",
              "      <td>&lt;=50K</td>\n",
              "    </tr>\n",
              "    <tr>\n",
              "      <th>18</th>\n",
              "      <td>38</td>\n",
              "      <td>Private</td>\n",
              "      <td>28887</td>\n",
              "      <td>11th</td>\n",
              "      <td>7</td>\n",
              "      <td>Married-civ-spouse</td>\n",
              "      <td>Sales</td>\n",
              "      <td>Husband</td>\n",
              "      <td>White</td>\n",
              "      <td>Male</td>\n",
              "      <td>0</td>\n",
              "      <td>0</td>\n",
              "      <td>50</td>\n",
              "      <td>United-States</td>\n",
              "      <td>&lt;=50K</td>\n",
              "    </tr>\n",
              "    <tr>\n",
              "      <th>19</th>\n",
              "      <td>43</td>\n",
              "      <td>Self-emp-not-inc</td>\n",
              "      <td>292175</td>\n",
              "      <td>Masters</td>\n",
              "      <td>14</td>\n",
              "      <td>Divorced</td>\n",
              "      <td>Exec-managerial</td>\n",
              "      <td>Unmarried</td>\n",
              "      <td>White</td>\n",
              "      <td>Female</td>\n",
              "      <td>0</td>\n",
              "      <td>0</td>\n",
              "      <td>45</td>\n",
              "      <td>United-States</td>\n",
              "      <td>&gt;50K</td>\n",
              "    </tr>\n",
              "  </tbody>\n",
              "</table>\n",
              "</div>"
            ],
            "text/plain": [
              "    age         workclass  ...  native_country gross_income_group\n",
              "0    39         State-gov  ...   United-States              <=50K\n",
              "1    50  Self-emp-not-inc  ...   United-States              <=50K\n",
              "2    38           Private  ...   United-States              <=50K\n",
              "3    53           Private  ...   United-States              <=50K\n",
              "4    28           Private  ...            Cuba              <=50K\n",
              "5    37           Private  ...   United-States              <=50K\n",
              "6    49           Private  ...         Jamaica              <=50K\n",
              "7    52  Self-emp-not-inc  ...   United-States               >50K\n",
              "8    31           Private  ...   United-States               >50K\n",
              "9    42           Private  ...   United-States               >50K\n",
              "10   37           Private  ...   United-States               >50K\n",
              "11   30         State-gov  ...           India               >50K\n",
              "12   23           Private  ...   United-States              <=50K\n",
              "13   32           Private  ...   United-States              <=50K\n",
              "14   40           Private  ...             NaN               >50K\n",
              "15   34           Private  ...          Mexico              <=50K\n",
              "16   25  Self-emp-not-inc  ...   United-States              <=50K\n",
              "17   32           Private  ...   United-States              <=50K\n",
              "18   38           Private  ...   United-States              <=50K\n",
              "19   43  Self-emp-not-inc  ...   United-States               >50K\n",
              "\n",
              "[20 rows x 15 columns]"
            ]
          },
          "metadata": {
            "tags": []
          },
          "execution_count": 3
        }
      ]
    },
    {
      "cell_type": "code",
      "metadata": {
        "colab": {
          "base_uri": "https://localhost:8080/"
        },
        "id": "7ulDeRBgwL9q",
        "outputId": "43d46b1d-dbaa-4574-e4dd-afb2e12a2eff"
      },
      "source": [
        "## Let's now determine the number of missing variables in each column\r\n",
        "income_v2.isnull().sum()"
      ],
      "execution_count": 4,
      "outputs": [
        {
          "output_type": "execute_result",
          "data": {
            "text/plain": [
              "age                      0\n",
              "workclass             1836\n",
              "fnlwgt                   0\n",
              "education                0\n",
              "education_num            0\n",
              "marital_status           0\n",
              "occupation            1843\n",
              "relationship             0\n",
              "race                     0\n",
              "sex                      0\n",
              "capital_gain             0\n",
              "capital_loss             0\n",
              "hours_per_week           0\n",
              "native_country         583\n",
              "gross_income_group       0\n",
              "dtype: int64"
            ]
          },
          "metadata": {
            "tags": []
          },
          "execution_count": 4
        }
      ]
    },
    {
      "cell_type": "markdown",
      "metadata": {
        "id": "OAwudLqLQP0J"
      },
      "source": [
        "####Text (for casting and counting):"
      ]
    },
    {
      "cell_type": "markdown",
      "metadata": {
        "id": "SAQWBuPUwg_P"
      },
      "source": [
        "There are 1836 missing values in the 'workclass' column, 1843 missing values in the 'occupation' column, and 583 missing values in the 'native_country' column. Other than that, all values appear to be there."
      ]
    },
    {
      "cell_type": "markdown",
      "metadata": {
        "id": "nKO4CPkjVIu6"
      },
      "source": [
        "###Question 3"
      ]
    },
    {
      "cell_type": "markdown",
      "metadata": {
        "id": "f6eIeXf_w5v8"
      },
      "source": [
        "####Code (for individual plots):"
      ]
    },
    {
      "cell_type": "code",
      "metadata": {
        "id": "24CiXhcKRkvO",
        "colab": {
          "base_uri": "https://localhost:8080/",
          "height": 296
        },
        "outputId": "580baa4c-7b02-4216-97fa-3092f9eb61c1"
      },
      "source": [
        "## First plot capital_gain. Let's do a Histogram first.\r\n",
        "sns.histplot(x = 'capital_gain', data = income_v2)\r\n",
        "plt.xlabel('capital_gain')\r\n",
        "plt.title('Distribution of capital_gain')\r\n",
        "plt.show()"
      ],
      "execution_count": 7,
      "outputs": [
        {
          "output_type": "display_data",
          "data": {
            "image/png": "[encoded data removed]",
            "text/plain": [
              "<Figure size 432x288 with 1 Axes>"
            ]
          },
          "metadata": {
            "tags": [],
            "needs_background": "light"
          }
        }
      ]
    },
    {
      "cell_type": "code",
      "metadata": {
        "colab": {
          "base_uri": "https://localhost:8080/",
          "height": 296
        },
        "id": "xFgWSWTqext9",
        "outputId": "4f69f22d-68f2-4342-b021-745c2279622d"
      },
      "source": [
        "## Now let's look at a Boxplot\r\n",
        "sns.boxplot(x = 'capital_gain', data = income_v2)\r\n",
        "plt.xlabel('capital_gain')\r\n",
        "plt.title('Distribution of capital_gain')\r\n",
        "plt.show()\r\n"
      ],
      "execution_count": 8,
      "outputs": [
        {
          "output_type": "display_data",
          "data": {
            "image/png": "[encoded data removed]",
            "text/plain": [
              "<Figure size 432x288 with 1 Axes>"
            ]
          },
          "metadata": {
            "tags": [],
            "needs_background": "light"
          }
        }
      ]
    },
    {
      "cell_type": "code",
      "metadata": {
        "colab": {
          "base_uri": "https://localhost:8080/",
          "height": 296
        },
        "id": "EmR69Ytafd2w",
        "outputId": "b8099f2d-4982-4edf-e194-3b3d607f3bee"
      },
      "source": [
        "## Plot capital_loss. Let's do a Histogram first.\r\n",
        "sns.histplot(x = 'capital_loss', data = income_v2)\r\n",
        "plt.xlabel('capital_loss')\r\n",
        "plt.title('Distribution of capital_loss')\r\n",
        "plt.show()"
      ],
      "execution_count": 9,
      "outputs": [
        {
          "output_type": "display_data",
          "data": {
            "image/png": "[encoded data removed]",
            "text/plain": [
              "<Figure size 432x288 with 1 Axes>"
            ]
          },
          "metadata": {
            "tags": [],
            "needs_background": "light"
          }
        }
      ]
    },
    {
      "cell_type": "code",
      "metadata": {
        "colab": {
          "base_uri": "https://localhost:8080/",
          "height": 296
        },
        "id": "zj4xdpdmflo1",
        "outputId": "7b6fe1f9-476f-4919-8244-71ffdecb77ea"
      },
      "source": [
        "## Now let's look at a Boxplot\r\n",
        "sns.boxplot(x = 'capital_loss', data = income_v2)\r\n",
        "plt.xlabel('capital_loss')\r\n",
        "plt.title('Distribution of capital_loss')\r\n",
        "plt.show()\r\n"
      ],
      "execution_count": 10,
      "outputs": [
        {
          "output_type": "display_data",
          "data": {
            "image/png": "[encoded data removed]",
            "text/plain": [
              "<Figure size 432x288 with 1 Axes>"
            ]
          },
          "metadata": {
            "tags": [],
            "needs_background": "light"
          }
        }
      ]
    },
    {
      "cell_type": "markdown",
      "metadata": {
        "id": "oAc-98Agw__q"
      },
      "source": [
        "####Text (for what needs to change and why):"
      ]
    },
    {
      "cell_type": "markdown",
      "metadata": {
        "id": "Fa8QdO61yvYf"
      },
      "source": [
        "As mentioned in Question 2, capital_loss and capital_gain are intertwined--if capital_loss is non-zero, then capital_gain will be zero. Likewise, if capital_gain is non-zero, then capital_loss will be zero. This is because if you lose capital overall, you cannot gain capital, and vice versa. Ergo, there are a lot of 0s in the distributions above. As such, there should be a new variable that replaces these two--change_in_capital. This variable should hold positive values whenever there is a gain in capital, a negative value whenever there is a loss in capital, and zero when capital is neither gained nor lost (i.e., capital remains the same)."
      ]
    },
    {
      "cell_type": "markdown",
      "metadata": {
        "id": "_o8zkCf4xI2u"
      },
      "source": [
        "####Code (for new plots):"
      ]
    },
    {
      "cell_type": "code",
      "metadata": {
        "id": "WkXmZnMzzxji"
      },
      "source": [
        "##Introduce the new variable\r\n",
        "income_v2['change_in_capital']= income_v2['capital_gain'] - income_v2['capital_loss']\r\n",
        "##Remove the odd variables\r\n",
        "income_v2 = income_v2.drop(columns=['capital_gain','capital_loss'])"
      ],
      "execution_count": 18,
      "outputs": []
    },
    {
      "cell_type": "code",
      "metadata": {
        "id": "R1Ar8oEhzxsm",
        "colab": {
          "base_uri": "https://localhost:8080/",
          "height": 296
        },
        "outputId": "ef6fabd9-a06a-41d2-9185-50d7a3e34c92"
      },
      "source": [
        "## Let's do a Histogram first.\r\n",
        "sns.histplot(x = 'change_in_capital', data = income_v2)\r\n",
        "plt.xlabel('change_in_capital')\r\n",
        "plt.title('Distribution of change_in_capital')\r\n",
        "plt.show()"
      ],
      "execution_count": 19,
      "outputs": [
        {
          "output_type": "display_data",
          "data": {
            "image/png": "[encoded data removed]",
            "text/plain": [
              "<Figure size 432x288 with 1 Axes>"
            ]
          },
          "metadata": {
            "tags": [],
            "needs_background": "light"
          }
        }
      ]
    },
    {
      "cell_type": "code",
      "metadata": {
        "colab": {
          "base_uri": "https://localhost:8080/",
          "height": 296
        },
        "id": "HZmoCRQTglU7",
        "outputId": "aac4a14b-3bb8-48e8-de5d-8b42f438e23a"
      },
      "source": [
        "## Let's do a boxplot next\r\n",
        "sns.boxplot(x = 'change_in_capital', data = income_v2)\r\n",
        "plt.xlabel('change_in_capital')\r\n",
        "plt.title('Distribution of change_in_capital')\r\n",
        "plt.show()"
      ],
      "execution_count": 27,
      "outputs": [
        {
          "output_type": "display_data",
          "data": {
            "image/png": "[encoded data removed]",
            "text/plain": [
              "<Figure size 432x288 with 1 Axes>"
            ]
          },
          "metadata": {
            "tags": [],
            "needs_background": "light"
          }
        }
      ]
    },
    {
      "cell_type": "code",
      "metadata": {
        "colab": {
          "base_uri": "https://localhost:8080/"
        },
        "id": "XhXsetghgxcg",
        "outputId": "012aec5c-bf5c-4d7a-e6b1-7f718d68c43e"
      },
      "source": [
        "## Briefly examine the summary statistics.\r\n",
        "income_v2['change_in_capital'].describe()"
      ],
      "execution_count": 16,
      "outputs": [
        {
          "output_type": "execute_result",
          "data": {
            "text/plain": [
              "count    32561.000000\n",
              "mean       990.345014\n",
              "std       7408.986951\n",
              "min      -4356.000000\n",
              "25%          0.000000\n",
              "50%          0.000000\n",
              "75%          0.000000\n",
              "max      99999.000000\n",
              "Name: change_in_capital, dtype: float64"
            ]
          },
          "metadata": {
            "tags": []
          },
          "execution_count": 16
        }
      ]
    },
    {
      "cell_type": "markdown",
      "metadata": {
        "id": "RwEC-NOwVMoa"
      },
      "source": [
        "###Question 4"
      ]
    },
    {
      "cell_type": "markdown",
      "metadata": {
        "id": "r-5STndgo49b"
      },
      "source": [
        "####Code (for overall distribution):"
      ]
    },
    {
      "cell_type": "code",
      "metadata": {
        "id": "0Gb_ggpgbYJt",
        "colab": {
          "base_uri": "https://localhost:8080/",
          "height": 295
        },
        "outputId": "c3e64f21-17e1-4511-a97f-e0a692280ec3"
      },
      "source": [
        "## Let's do a Histogram first.\r\n",
        "sns.histplot(x = 'fnlwgt', data = income_v2)\r\n",
        "plt.xlabel('fnlwgt')\r\n",
        "plt.title('Distribution of fnlwgt')\r\n",
        "plt.show()"
      ],
      "execution_count": 20,
      "outputs": [
        {
          "output_type": "display_data",
          "data": {
            "image/png": "[encoded data removed]",
            "text/plain": [
              "<Figure size 432x288 with 1 Axes>"
            ]
          },
          "metadata": {
            "tags": [],
            "needs_background": "light"
          }
        }
      ]
    },
    {
      "cell_type": "code",
      "metadata": {
        "colab": {
          "base_uri": "https://localhost:8080/",
          "height": 295
        },
        "id": "5jLgt-GkxlPv",
        "outputId": "595506b2-f3ad-49ab-de2f-93025614e110"
      },
      "source": [
        "## Let's do a Histogram first.\r\n",
        "sns.boxplot(x = 'fnlwgt', data = income_v2)\r\n",
        "plt.xlabel('fnlwgt')\r\n",
        "plt.title('Distribution of fnlwgt')\r\n",
        "plt.show()"
      ],
      "execution_count": 28,
      "outputs": [
        {
          "output_type": "display_data",
          "data": {
            "image/png": "[encoded data removed]",
            "text/plain": [
              "<Figure size 432x288 with 1 Axes>"
            ]
          },
          "metadata": {
            "tags": [],
            "needs_background": "light"
          }
        }
      ]
    },
    {
      "cell_type": "code",
      "metadata": {
        "colab": {
          "base_uri": "https://localhost:8080/"
        },
        "id": "AgnYyVjHxj5J",
        "outputId": "1c0968f5-c3f8-4333-cdc3-5d664f4cc54e"
      },
      "source": [
        "## Briefly examine the summary statistics.\r\n",
        "income_v2['fnlwgt'].describe()"
      ],
      "execution_count": 21,
      "outputs": [
        {
          "output_type": "execute_result",
          "data": {
            "text/plain": [
              "count    3.256100e+04\n",
              "mean     1.897784e+05\n",
              "std      1.055500e+05\n",
              "min      1.228500e+04\n",
              "25%      1.178270e+05\n",
              "50%      1.783560e+05\n",
              "75%      2.370510e+05\n",
              "max      1.484705e+06\n",
              "Name: fnlwgt, dtype: float64"
            ]
          },
          "metadata": {
            "tags": []
          },
          "execution_count": 21
        }
      ]
    },
    {
      "cell_type": "markdown",
      "metadata": {
        "id": "d28df4vipbWS"
      },
      "source": [
        "####Text (for overall distribution):"
      ]
    },
    {
      "cell_type": "markdown",
      "metadata": {
        "id": "Yj45b_9N66i9"
      },
      "source": [
        "The distribution is not symmetric--it is right-skewed."
      ]
    },
    {
      "cell_type": "markdown",
      "metadata": {
        "id": "C-p8NVcrpWD3"
      },
      "source": [
        "####Code (for distribution for men/women):"
      ]
    },
    {
      "cell_type": "code",
      "metadata": {
        "colab": {
          "base_uri": "https://localhost:8080/",
          "height": 295
        },
        "id": "fe9G1fprxM3u",
        "outputId": "af5645e3-7010-4f01-d2d7-056f48c81da4"
      },
      "source": [
        "## Make a Histogram for men first.\r\n",
        "sns.histplot(x = 'fnlwgt', data = income_v2.loc[income_v2['sex'] == 'Male'])\r\n",
        "plt.xlabel('fnlwgt')\r\n",
        "plt.title('Distribution of fnlwgt for Men')\r\n",
        "plt.show()"
      ],
      "execution_count": 26,
      "outputs": [
        {
          "output_type": "display_data",
          "data": {
            "image/png": "[encoded data removed]",
            "text/plain": [
              "<Figure size 432x288 with 1 Axes>"
            ]
          },
          "metadata": {
            "tags": [],
            "needs_background": "light"
          }
        }
      ]
    },
    {
      "cell_type": "code",
      "metadata": {
        "colab": {
          "base_uri": "https://localhost:8080/",
          "height": 295
        },
        "id": "A2Iew_RA8RWr",
        "outputId": "9fff7135-694a-41c1-91d1-0fa71f45b38a"
      },
      "source": [
        "## Boxplot for Men\r\n",
        "sns.boxplot(x = 'fnlwgt', data = income_v2.loc[income_v2['sex'] == 'Male'])\r\n",
        "plt.xlabel('fnlwgt')\r\n",
        "plt.title('Distribution of fnlwgt for Men')\r\n",
        "plt.show()"
      ],
      "execution_count": 29,
      "outputs": [
        {
          "output_type": "display_data",
          "data": {
            "image/png": "[encoded data removed]",
            "text/plain": [
              "<Figure size 432x288 with 1 Axes>"
            ]
          },
          "metadata": {
            "tags": [],
            "needs_background": "light"
          }
        }
      ]
    },
    {
      "cell_type": "code",
      "metadata": {
        "colab": {
          "base_uri": "https://localhost:8080/"
        },
        "id": "mxcq4Ati8aYX",
        "outputId": "eb8ef353-b0ed-4172-9af0-cb724246f89e"
      },
      "source": [
        "## Get some summary statistics for Men\r\n",
        "income_v2.loc[income_v2['sex'] == 'Male']['fnlwgt'].describe()"
      ],
      "execution_count": 31,
      "outputs": [
        {
          "output_type": "execute_result",
          "data": {
            "text/plain": [
              "count    2.179000e+04\n",
              "mean     1.917714e+05\n",
              "std      1.067407e+05\n",
              "min      1.376900e+04\n",
              "25%      1.182008e+05\n",
              "50%      1.801400e+05\n",
              "75%      2.411462e+05\n",
              "max      1.455435e+06\n",
              "Name: fnlwgt, dtype: float64"
            ]
          },
          "metadata": {
            "tags": []
          },
          "execution_count": 31
        }
      ]
    },
    {
      "cell_type": "code",
      "metadata": {
        "colab": {
          "base_uri": "https://localhost:8080/",
          "height": 295
        },
        "id": "7p933ZnN7fLY",
        "outputId": "1d774024-c82a-4875-dd8b-d253778028f3"
      },
      "source": [
        "## Now, make a Histogram for women.\r\n",
        "sns.histplot(x = 'fnlwgt', data = income_v2.loc[income_v2['sex'] == 'Female'])\r\n",
        "plt.xlabel('fnlwgt')\r\n",
        "plt.title('Distribution of fnlwgt for Women')\r\n",
        "plt.show()"
      ],
      "execution_count": 25,
      "outputs": [
        {
          "output_type": "display_data",
          "data": {
            "image/png": "[encoded data removed]",
            "text/plain": [
              "<Figure size 432x288 with 1 Axes>"
            ]
          },
          "metadata": {
            "tags": [],
            "needs_background": "light"
          }
        }
      ]
    },
    {
      "cell_type": "code",
      "metadata": {
        "colab": {
          "base_uri": "https://localhost:8080/",
          "height": 295
        },
        "id": "j_3HGlrJ8uz8",
        "outputId": "30b9c467-d1f3-4a2c-cb93-d47d5b41a709"
      },
      "source": [
        "## Boxplot for women.\r\n",
        "sns.boxplot(x = 'fnlwgt', data = income_v2.loc[income_v2['sex'] == 'Female'])\r\n",
        "plt.xlabel('fnlwgt')\r\n",
        "plt.title('Distribution of fnlwgt for Women')\r\n",
        "plt.show()"
      ],
      "execution_count": 32,
      "outputs": [
        {
          "output_type": "display_data",
          "data": {
            "image/png": "[encoded data removed]",
            "text/plain": [
              "<Figure size 432x288 with 1 Axes>"
            ]
          },
          "metadata": {
            "tags": [],
            "needs_background": "light"
          }
        }
      ]
    },
    {
      "cell_type": "code",
      "metadata": {
        "colab": {
          "base_uri": "https://localhost:8080/"
        },
        "id": "PHlpIMdd80OK",
        "outputId": "7d8a852b-51d6-4d1f-d684-147d3b2b3367"
      },
      "source": [
        "## Get some summary statistics for Women\r\n",
        "income_v2.loc[income_v2['sex'] == 'Female']['fnlwgt'].describe()"
      ],
      "execution_count": 33,
      "outputs": [
        {
          "output_type": "execute_result",
          "data": {
            "text/plain": [
              "count    1.077100e+04\n",
              "mean     1.857463e+05\n",
              "std      1.029861e+05\n",
              "min      1.228500e+04\n",
              "25%      1.173630e+05\n",
              "50%      1.760770e+05\n",
              "75%      2.283315e+05\n",
              "max      1.484705e+06\n",
              "Name: fnlwgt, dtype: float64"
            ]
          },
          "metadata": {
            "tags": []
          },
          "execution_count": 33
        }
      ]
    },
    {
      "cell_type": "markdown",
      "metadata": {
        "id": "L5KS4qQfptDQ"
      },
      "source": [
        "####Text (for distribution for men/women):"
      ]
    },
    {
      "cell_type": "markdown",
      "metadata": {
        "id": "HLDV_9hQ71Pe"
      },
      "source": [
        "As shown above, the two distributions are very similar. Due to our fairly big sample size, I believe outliers should be included for now, so that we can have a better idea of how they play out with the rest of the data."
      ]
    },
    {
      "cell_type": "markdown",
      "metadata": {
        "id": "V6GlYLcvU-7V"
      },
      "source": [
        "#Correlation:"
      ]
    },
    {
      "cell_type": "markdown",
      "metadata": {
        "id": "T7F6q0AVVR7Q"
      },
      "source": [
        "###Part A:"
      ]
    },
    {
      "cell_type": "markdown",
      "metadata": {
        "id": "pkpxsseoEuZI"
      },
      "source": [
        "####Code:"
      ]
    },
    {
      "cell_type": "code",
      "metadata": {
        "colab": {
          "base_uri": "https://localhost:8080/",
          "height": 195
        },
        "id": "PzlYKlMaCrpZ",
        "outputId": "dbac2767-d4cb-41f6-f298-138535731dbc"
      },
      "source": [
        "income_v2.corr()"
      ],
      "execution_count": 34,
      "outputs": [
        {
          "output_type": "execute_result",
          "data": {
            "text/html": [
              "<div>\n",
              "<style scoped>\n",
              "    .dataframe tbody tr th:only-of-type {\n",
              "        vertical-align: middle;\n",
              "    }\n",
              "\n",
              "    .dataframe tbody tr th {\n",
              "        vertical-align: top;\n",
              "    }\n",
              "\n",
              "    .dataframe thead th {\n",
              "        text-align: right;\n",
              "    }\n",
              "</style>\n",
              "<table border=\"1\" class=\"dataframe\">\n",
              "  <thead>\n",
              "    <tr style=\"text-align: right;\">\n",
              "      <th></th>\n",
              "      <th>age</th>\n",
              "      <th>fnlwgt</th>\n",
              "      <th>education_num</th>\n",
              "      <th>hours_per_week</th>\n",
              "      <th>change_in_capital</th>\n",
              "    </tr>\n",
              "  </thead>\n",
              "  <tbody>\n",
              "    <tr>\n",
              "      <th>age</th>\n",
              "      <td>1.000000</td>\n",
              "      <td>-0.076646</td>\n",
              "      <td>0.036527</td>\n",
              "      <td>0.068756</td>\n",
              "      <td>0.074284</td>\n",
              "    </tr>\n",
              "    <tr>\n",
              "      <th>fnlwgt</th>\n",
              "      <td>-0.076646</td>\n",
              "      <td>1.000000</td>\n",
              "      <td>-0.043195</td>\n",
              "      <td>-0.018768</td>\n",
              "      <td>0.000988</td>\n",
              "    </tr>\n",
              "    <tr>\n",
              "      <th>education_num</th>\n",
              "      <td>0.036527</td>\n",
              "      <td>-0.043195</td>\n",
              "      <td>1.000000</td>\n",
              "      <td>0.148123</td>\n",
              "      <td>0.117891</td>\n",
              "    </tr>\n",
              "    <tr>\n",
              "      <th>hours_per_week</th>\n",
              "      <td>0.068756</td>\n",
              "      <td>-0.018768</td>\n",
              "      <td>0.148123</td>\n",
              "      <td>1.000000</td>\n",
              "      <td>0.075207</td>\n",
              "    </tr>\n",
              "    <tr>\n",
              "      <th>change_in_capital</th>\n",
              "      <td>0.074284</td>\n",
              "      <td>0.000988</td>\n",
              "      <td>0.117891</td>\n",
              "      <td>0.075207</td>\n",
              "      <td>1.000000</td>\n",
              "    </tr>\n",
              "  </tbody>\n",
              "</table>\n",
              "</div>"
            ],
            "text/plain": [
              "                        age    fnlwgt  ...  hours_per_week  change_in_capital\n",
              "age                1.000000 -0.076646  ...        0.068756           0.074284\n",
              "fnlwgt            -0.076646  1.000000  ...       -0.018768           0.000988\n",
              "education_num      0.036527 -0.043195  ...        0.148123           0.117891\n",
              "hours_per_week     0.068756 -0.018768  ...        1.000000           0.075207\n",
              "change_in_capital  0.074284  0.000988  ...        0.075207           1.000000\n",
              "\n",
              "[5 rows x 5 columns]"
            ]
          },
          "metadata": {
            "tags": []
          },
          "execution_count": 34
        }
      ]
    },
    {
      "cell_type": "markdown",
      "metadata": {
        "id": "2uMSs9MSEx4v"
      },
      "source": [
        "####Text:"
      ]
    },
    {
      "cell_type": "markdown",
      "metadata": {
        "id": "5V06CAn4E0S-"
      },
      "source": [
        "The correlations between age, hours_per_week and change_in_capital all appear to be very weak. None of the variables seem to correlated."
      ]
    },
    {
      "cell_type": "markdown",
      "metadata": {
        "id": "1v55zDNMVU9I"
      },
      "source": [
        "###Part B:"
      ]
    },
    {
      "cell_type": "markdown",
      "metadata": {
        "id": "9QcVp-YUFCgT"
      },
      "source": [
        "####Code:"
      ]
    },
    {
      "cell_type": "code",
      "metadata": {
        "colab": {
          "base_uri": "https://localhost:8080/",
          "height": 195
        },
        "id": "3Y4AX28SCsK6",
        "outputId": "bbb78208-e0c3-4734-9882-1ca5d591b6c2"
      },
      "source": [
        "##Here, we used code outlined by from here: https://stackoverflow.com/questions/52741236/how-to-calculate-p-values-for-pairwise-correlation-of-columns-in-pandas\r\n",
        "##All this does is it displays the significance of the correlation between each of the two variables\r\n",
        "\r\n",
        "from scipy.stats import pearsonr\r\n",
        "def pearsonr_pval(x,y):\r\n",
        "  return pearsonr(x,y)[1]\r\n",
        "income_v2.corr(method=pearsonr_pval)"
      ],
      "execution_count": 50,
      "outputs": [
        {
          "output_type": "execute_result",
          "data": {
            "text/html": [
              "<div>\n",
              "<style scoped>\n",
              "    .dataframe tbody tr th:only-of-type {\n",
              "        vertical-align: middle;\n",
              "    }\n",
              "\n",
              "    .dataframe tbody tr th {\n",
              "        vertical-align: top;\n",
              "    }\n",
              "\n",
              "    .dataframe thead th {\n",
              "        text-align: right;\n",
              "    }\n",
              "</style>\n",
              "<table border=\"1\" class=\"dataframe\">\n",
              "  <thead>\n",
              "    <tr style=\"text-align: right;\">\n",
              "      <th></th>\n",
              "      <th>age</th>\n",
              "      <th>fnlwgt</th>\n",
              "      <th>education_num</th>\n",
              "      <th>hours_per_week</th>\n",
              "      <th>change_in_capital</th>\n",
              "    </tr>\n",
              "  </thead>\n",
              "  <tbody>\n",
              "    <tr>\n",
              "      <th>age</th>\n",
              "      <td>1.000000e+00</td>\n",
              "      <td>1.266170e-43</td>\n",
              "      <td>4.305718e-11</td>\n",
              "      <td>2.011286e-35</td>\n",
              "      <td>4.475816e-41</td>\n",
              "    </tr>\n",
              "    <tr>\n",
              "      <th>fnlwgt</th>\n",
              "      <td>1.266170e-43</td>\n",
              "      <td>1.000000e+00</td>\n",
              "      <td>6.306191e-15</td>\n",
              "      <td>7.069233e-04</td>\n",
              "      <td>8.584968e-01</td>\n",
              "    </tr>\n",
              "    <tr>\n",
              "      <th>education_num</th>\n",
              "      <td>4.305718e-11</td>\n",
              "      <td>6.306191e-15</td>\n",
              "      <td>1.000000e+00</td>\n",
              "      <td>4.236647e-159</td>\n",
              "      <td>4.183839e-101</td>\n",
              "    </tr>\n",
              "    <tr>\n",
              "      <th>hours_per_week</th>\n",
              "      <td>2.011286e-35</td>\n",
              "      <td>7.069233e-04</td>\n",
              "      <td>4.236647e-159</td>\n",
              "      <td>1.000000e+00</td>\n",
              "      <td>4.617740e-42</td>\n",
              "    </tr>\n",
              "    <tr>\n",
              "      <th>change_in_capital</th>\n",
              "      <td>4.475816e-41</td>\n",
              "      <td>8.584968e-01</td>\n",
              "      <td>4.183839e-101</td>\n",
              "      <td>4.617740e-42</td>\n",
              "      <td>1.000000e+00</td>\n",
              "    </tr>\n",
              "  </tbody>\n",
              "</table>\n",
              "</div>"
            ],
            "text/plain": [
              "                            age  ...  change_in_capital\n",
              "age                1.000000e+00  ...       4.475816e-41\n",
              "fnlwgt             1.266170e-43  ...       8.584968e-01\n",
              "education_num      4.305718e-11  ...      4.183839e-101\n",
              "hours_per_week     2.011286e-35  ...       4.617740e-42\n",
              "change_in_capital  4.475816e-41  ...       1.000000e+00\n",
              "\n",
              "[5 rows x 5 columns]"
            ]
          },
          "metadata": {
            "tags": []
          },
          "execution_count": 50
        }
      ]
    },
    {
      "cell_type": "code",
      "metadata": {
        "colab": {
          "base_uri": "https://localhost:8080/"
        },
        "id": "pA5wYMeDkCok",
        "outputId": "15920f66-de93-4208-c2a4-1d85db355867"
      },
      "source": [
        "## Doing a regression test just to make sure StackOverflow didn't lie to me :p\r\n",
        "rega = smf.ols('hours_per_week ~ education_num', data = income_v2).fit()\r\n",
        "print(rega.summary())"
      ],
      "execution_count": 63,
      "outputs": [
        {
          "output_type": "stream",
          "text": [
            "                            OLS Regression Results                            \n",
            "==============================================================================\n",
            "Dep. Variable:         hours_per_week   R-squared:                       0.022\n",
            "Model:                            OLS   Adj. R-squared:                  0.022\n",
            "Method:                 Least Squares   F-statistic:                     730.4\n",
            "Date:                Mon, 08 Feb 2021   Prob (F-statistic):          4.24e-159\n",
            "Time:                        07:34:56   Log-Likelihood:            -1.2768e+05\n",
            "No. Observations:               32561   AIC:                         2.554e+05\n",
            "Df Residuals:                   32559   BIC:                         2.554e+05\n",
            "Df Model:                           1                                         \n",
            "Covariance Type:            nonrobust                                         \n",
            "=================================================================================\n",
            "                    coef    std err          t      P>|t|      [0.025      0.975]\n",
            "---------------------------------------------------------------------------------\n",
            "Intercept        33.2711      0.274    121.575      0.000      32.735      33.808\n",
            "education_num     0.7109      0.026     27.026      0.000       0.659       0.762\n",
            "==============================================================================\n",
            "Omnibus:                     2649.457   Durbin-Watson:                   2.017\n",
            "Prob(Omnibus):                  0.000   Jarque-Bera (JB):            13119.139\n",
            "Skew:                           0.238   Prob(JB):                         0.00\n",
            "Kurtosis:                       6.073   Cond. No.                         42.4\n",
            "==============================================================================\n",
            "\n",
            "Warnings:\n",
            "[1] Standard Errors assume that the covariance matrix of the errors is correctly specified.\n"
          ],
          "name": "stdout"
        }
      ]
    },
    {
      "cell_type": "code",
      "metadata": {
        "colab": {
          "base_uri": "https://localhost:8080/",
          "height": 297
        },
        "id": "9ujgeWz5eSGr",
        "outputId": "82d9064f-abb1-4f08-b253-13bf0ecdb60e"
      },
      "source": [
        "##A Boxplot for each value of education_num would do a better job here, but as we've already found the tests, that (and the plot below)\r\n",
        "##Would actually just be extra work\r\n",
        "sns.regplot(x='education_num', y='hours_per_week', data=income_v2)"
      ],
      "execution_count": 43,
      "outputs": [
        {
          "output_type": "execute_result",
          "data": {
            "text/plain": [
              "<matplotlib.axes._subplots.AxesSubplot at 0x7fa3edf646a0>"
            ]
          },
          "metadata": {
            "tags": []
          },
          "execution_count": 43
        },
        {
          "output_type": "display_data",
          "data": {
            "image/png": "[encoded data removed]",
            "text/plain": [
              "<Figure size 432x288 with 1 Axes>"
            ]
          },
          "metadata": {
            "tags": [],
            "needs_background": "light"
          }
        }
      ]
    },
    {
      "cell_type": "markdown",
      "metadata": {
        "id": "kif8EjW5FEHq"
      },
      "source": [
        "####Text:"
      ]
    },
    {
      "cell_type": "markdown",
      "metadata": {
        "id": "fhLUyX4ZNaEM"
      },
      "source": [
        "The only pair with a correlation coefficient larger than 0.1 or less than -0.1 is education_num and hours_per_week. After testing, we see that the relationship is very significant, so there appears to be a relationship between education_num and hours_per_week. Futhermore, the direction of the correlation seems to indicate that the higher your education is, the more hours per week you work (we know this because the correlation is positive). I personally find this surprising, as I thought that people who were better educated would work less."
      ]
    },
    {
      "cell_type": "markdown",
      "metadata": {
        "id": "1gnwhktbVai8"
      },
      "source": [
        "###Part C:"
      ]
    },
    {
      "cell_type": "markdown",
      "metadata": {
        "id": "O5kNawO9g3co"
      },
      "source": [
        "####Code:"
      ]
    },
    {
      "cell_type": "code",
      "metadata": {
        "colab": {
          "base_uri": "https://localhost:8080/",
          "height": 195
        },
        "id": "4v2HkE_1CsmU",
        "outputId": "2921e27e-b9a7-4688-cea3-96428f9c5163"
      },
      "source": [
        "## This is for Women:\r\n",
        "## (This is correlation!)\r\n",
        "income_v2.loc[income_v2['sex'] == 'Female'].corr()"
      ],
      "execution_count": 44,
      "outputs": [
        {
          "output_type": "execute_result",
          "data": {
            "text/html": [
              "<div>\n",
              "<style scoped>\n",
              "    .dataframe tbody tr th:only-of-type {\n",
              "        vertical-align: middle;\n",
              "    }\n",
              "\n",
              "    .dataframe tbody tr th {\n",
              "        vertical-align: top;\n",
              "    }\n",
              "\n",
              "    .dataframe thead th {\n",
              "        text-align: right;\n",
              "    }\n",
              "</style>\n",
              "<table border=\"1\" class=\"dataframe\">\n",
              "  <thead>\n",
              "    <tr style=\"text-align: right;\">\n",
              "      <th></th>\n",
              "      <th>age</th>\n",
              "      <th>fnlwgt</th>\n",
              "      <th>education_num</th>\n",
              "      <th>hours_per_week</th>\n",
              "      <th>change_in_capital</th>\n",
              "    </tr>\n",
              "  </thead>\n",
              "  <tbody>\n",
              "    <tr>\n",
              "      <th>age</th>\n",
              "      <td>1.000000</td>\n",
              "      <td>-0.054676</td>\n",
              "      <td>-0.017899</td>\n",
              "      <td>0.081257</td>\n",
              "      <td>0.053421</td>\n",
              "    </tr>\n",
              "    <tr>\n",
              "      <th>fnlwgt</th>\n",
              "      <td>-0.054676</td>\n",
              "      <td>1.000000</td>\n",
              "      <td>-0.039808</td>\n",
              "      <td>0.006913</td>\n",
              "      <td>-0.000460</td>\n",
              "    </tr>\n",
              "    <tr>\n",
              "      <th>education_num</th>\n",
              "      <td>-0.017899</td>\n",
              "      <td>-0.039808</td>\n",
              "      <td>1.000000</td>\n",
              "      <td>0.178749</td>\n",
              "      <td>0.072229</td>\n",
              "    </tr>\n",
              "    <tr>\n",
              "      <th>hours_per_week</th>\n",
              "      <td>0.081257</td>\n",
              "      <td>0.006913</td>\n",
              "      <td>0.178749</td>\n",
              "      <td>1.000000</td>\n",
              "      <td>0.027204</td>\n",
              "    </tr>\n",
              "    <tr>\n",
              "      <th>change_in_capital</th>\n",
              "      <td>0.053421</td>\n",
              "      <td>-0.000460</td>\n",
              "      <td>0.072229</td>\n",
              "      <td>0.027204</td>\n",
              "      <td>1.000000</td>\n",
              "    </tr>\n",
              "  </tbody>\n",
              "</table>\n",
              "</div>"
            ],
            "text/plain": [
              "                        age    fnlwgt  ...  hours_per_week  change_in_capital\n",
              "age                1.000000 -0.054676  ...        0.081257           0.053421\n",
              "fnlwgt            -0.054676  1.000000  ...        0.006913          -0.000460\n",
              "education_num     -0.017899 -0.039808  ...        0.178749           0.072229\n",
              "hours_per_week     0.081257  0.006913  ...        1.000000           0.027204\n",
              "change_in_capital  0.053421 -0.000460  ...        0.027204           1.000000\n",
              "\n",
              "[5 rows x 5 columns]"
            ]
          },
          "metadata": {
            "tags": []
          },
          "execution_count": 44
        }
      ]
    },
    {
      "cell_type": "code",
      "metadata": {
        "colab": {
          "base_uri": "https://localhost:8080/",
          "height": 195
        },
        "id": "M420xLqIhpNr",
        "outputId": "99adcd33-657d-454d-b726-30d02f3561b5"
      },
      "source": [
        "## This is also for Women\r\n",
        "## (This is significance!)\r\n",
        "income_v2.loc[income_v2['sex'] == 'Female'].corr(method=pearsonr_pval)"
      ],
      "execution_count": 51,
      "outputs": [
        {
          "output_type": "execute_result",
          "data": {
            "text/html": [
              "<div>\n",
              "<style scoped>\n",
              "    .dataframe tbody tr th:only-of-type {\n",
              "        vertical-align: middle;\n",
              "    }\n",
              "\n",
              "    .dataframe tbody tr th {\n",
              "        vertical-align: top;\n",
              "    }\n",
              "\n",
              "    .dataframe thead th {\n",
              "        text-align: right;\n",
              "    }\n",
              "</style>\n",
              "<table border=\"1\" class=\"dataframe\">\n",
              "  <thead>\n",
              "    <tr style=\"text-align: right;\">\n",
              "      <th></th>\n",
              "      <th>age</th>\n",
              "      <th>fnlwgt</th>\n",
              "      <th>education_num</th>\n",
              "      <th>hours_per_week</th>\n",
              "      <th>change_in_capital</th>\n",
              "    </tr>\n",
              "  </thead>\n",
              "  <tbody>\n",
              "    <tr>\n",
              "      <th>age</th>\n",
              "      <td>1.000000e+00</td>\n",
              "      <td>1.362674e-08</td>\n",
              "      <td>6.322895e-02</td>\n",
              "      <td>3.010200e-17</td>\n",
              "      <td>2.896799e-08</td>\n",
              "    </tr>\n",
              "    <tr>\n",
              "      <th>fnlwgt</th>\n",
              "      <td>1.362674e-08</td>\n",
              "      <td>1.000000e+00</td>\n",
              "      <td>3.587303e-05</td>\n",
              "      <td>4.731590e-01</td>\n",
              "      <td>9.618907e-01</td>\n",
              "    </tr>\n",
              "    <tr>\n",
              "      <th>education_num</th>\n",
              "      <td>6.322895e-02</td>\n",
              "      <td>3.587303e-05</td>\n",
              "      <td>1.000000e+00</td>\n",
              "      <td>4.966599e-78</td>\n",
              "      <td>6.138844e-14</td>\n",
              "    </tr>\n",
              "    <tr>\n",
              "      <th>hours_per_week</th>\n",
              "      <td>3.010200e-17</td>\n",
              "      <td>4.731590e-01</td>\n",
              "      <td>4.966599e-78</td>\n",
              "      <td>1.000000e+00</td>\n",
              "      <td>4.750226e-03</td>\n",
              "    </tr>\n",
              "    <tr>\n",
              "      <th>change_in_capital</th>\n",
              "      <td>2.896799e-08</td>\n",
              "      <td>9.618907e-01</td>\n",
              "      <td>6.138844e-14</td>\n",
              "      <td>4.750226e-03</td>\n",
              "      <td>1.000000e+00</td>\n",
              "    </tr>\n",
              "  </tbody>\n",
              "</table>\n",
              "</div>"
            ],
            "text/plain": [
              "                            age  ...  change_in_capital\n",
              "age                1.000000e+00  ...       2.896799e-08\n",
              "fnlwgt             1.362674e-08  ...       9.618907e-01\n",
              "education_num      6.322895e-02  ...       6.138844e-14\n",
              "hours_per_week     3.010200e-17  ...       4.750226e-03\n",
              "change_in_capital  2.896799e-08  ...       1.000000e+00\n",
              "\n",
              "[5 rows x 5 columns]"
            ]
          },
          "metadata": {
            "tags": []
          },
          "execution_count": 51
        }
      ]
    },
    {
      "cell_type": "code",
      "metadata": {
        "colab": {
          "base_uri": "https://localhost:8080/"
        },
        "id": "Nxix8tFwkfVo",
        "outputId": "a883f782-2e28-4fc9-d315-86d4be592346"
      },
      "source": [
        "## Just to be on the safe side...\r\n",
        "regb = smf.ols('age ~ education_num', data = income_v2.loc[income_v2['sex'] == 'Female']).fit()\r\n",
        "print(regb.summary())"
      ],
      "execution_count": 64,
      "outputs": [
        {
          "output_type": "stream",
          "text": [
            "                            OLS Regression Results                            \n",
            "==============================================================================\n",
            "Dep. Variable:                    age   R-squared:                       0.000\n",
            "Model:                            OLS   Adj. R-squared:                  0.000\n",
            "Method:                 Least Squares   F-statistic:                     3.451\n",
            "Date:                Mon, 08 Feb 2021   Prob (F-statistic):             0.0632\n",
            "Time:                        07:36:53   Log-Likelihood:                -43717.\n",
            "No. Observations:               10771   AIC:                         8.744e+04\n",
            "Df Residuals:                   10769   BIC:                         8.745e+04\n",
            "Df Model:                           1                                         \n",
            "Covariance Type:            nonrobust                                         \n",
            "=================================================================================\n",
            "                    coef    std err          t      P>|t|      [0.025      0.975]\n",
            "---------------------------------------------------------------------------------\n",
            "Intercept        37.9159      0.585     64.799      0.000      36.769      39.063\n",
            "education_num    -0.1054      0.057     -1.858      0.063      -0.217       0.006\n",
            "==============================================================================\n",
            "Omnibus:                      673.710   Durbin-Watson:                   2.008\n",
            "Prob(Omnibus):                  0.000   Jarque-Bera (JB):              805.058\n",
            "Skew:                           0.667   Prob(JB):                    1.53e-175\n",
            "Kurtosis:                       2.884   Cond. No.                         45.1\n",
            "==============================================================================\n",
            "\n",
            "Warnings:\n",
            "[1] Standard Errors assume that the covariance matrix of the errors is correctly specified.\n"
          ],
          "name": "stdout"
        }
      ]
    },
    {
      "cell_type": "code",
      "metadata": {
        "colab": {
          "base_uri": "https://localhost:8080/",
          "height": 195
        },
        "id": "kW-PYX29gtMG",
        "outputId": "a3725168-f485-4023-d698-7fc0c928a455"
      },
      "source": [
        "## This is for Men:\r\n",
        "## (This is correlation!)\r\n",
        "income_v2.loc[income_v2['sex'] == 'Male'].corr()"
      ],
      "execution_count": 45,
      "outputs": [
        {
          "output_type": "execute_result",
          "data": {
            "text/html": [
              "<div>\n",
              "<style scoped>\n",
              "    .dataframe tbody tr th:only-of-type {\n",
              "        vertical-align: middle;\n",
              "    }\n",
              "\n",
              "    .dataframe tbody tr th {\n",
              "        vertical-align: top;\n",
              "    }\n",
              "\n",
              "    .dataframe thead th {\n",
              "        text-align: right;\n",
              "    }\n",
              "</style>\n",
              "<table border=\"1\" class=\"dataframe\">\n",
              "  <thead>\n",
              "    <tr style=\"text-align: right;\">\n",
              "      <th></th>\n",
              "      <th>age</th>\n",
              "      <th>fnlwgt</th>\n",
              "      <th>education_num</th>\n",
              "      <th>hours_per_week</th>\n",
              "      <th>change_in_capital</th>\n",
              "    </tr>\n",
              "  </thead>\n",
              "  <tbody>\n",
              "    <tr>\n",
              "      <th>age</th>\n",
              "      <td>1.000000</td>\n",
              "      <td>-0.091810</td>\n",
              "      <td>0.060486</td>\n",
              "      <td>0.034124</td>\n",
              "      <td>0.078558</td>\n",
              "    </tr>\n",
              "    <tr>\n",
              "      <th>fnlwgt</th>\n",
              "      <td>-0.091810</td>\n",
              "      <td>1.000000</td>\n",
              "      <td>-0.045174</td>\n",
              "      <td>-0.040739</td>\n",
              "      <td>-0.000189</td>\n",
              "    </tr>\n",
              "    <tr>\n",
              "      <th>education_num</th>\n",
              "      <td>0.060486</td>\n",
              "      <td>-0.045174</td>\n",
              "      <td>1.000000</td>\n",
              "      <td>0.136782</td>\n",
              "      <td>0.131371</td>\n",
              "    </tr>\n",
              "    <tr>\n",
              "      <th>hours_per_week</th>\n",
              "      <td>0.034124</td>\n",
              "      <td>-0.040739</td>\n",
              "      <td>0.136782</td>\n",
              "      <td>1.000000</td>\n",
              "      <td>0.079601</td>\n",
              "    </tr>\n",
              "    <tr>\n",
              "      <th>change_in_capital</th>\n",
              "      <td>0.078558</td>\n",
              "      <td>-0.000189</td>\n",
              "      <td>0.131371</td>\n",
              "      <td>0.079601</td>\n",
              "      <td>1.000000</td>\n",
              "    </tr>\n",
              "  </tbody>\n",
              "</table>\n",
              "</div>"
            ],
            "text/plain": [
              "                        age    fnlwgt  ...  hours_per_week  change_in_capital\n",
              "age                1.000000 -0.091810  ...        0.034124           0.078558\n",
              "fnlwgt            -0.091810  1.000000  ...       -0.040739          -0.000189\n",
              "education_num      0.060486 -0.045174  ...        0.136782           0.131371\n",
              "hours_per_week     0.034124 -0.040739  ...        1.000000           0.079601\n",
              "change_in_capital  0.078558 -0.000189  ...        0.079601           1.000000\n",
              "\n",
              "[5 rows x 5 columns]"
            ]
          },
          "metadata": {
            "tags": []
          },
          "execution_count": 45
        }
      ]
    },
    {
      "cell_type": "code",
      "metadata": {
        "colab": {
          "base_uri": "https://localhost:8080/",
          "height": 195
        },
        "id": "VW3tRI-Ak1vV",
        "outputId": "c24f94a7-2616-4770-9427-709040d9e254"
      },
      "source": [
        "## This is also for Men\r\n",
        "## (This is significance!)\r\n",
        "income_v2.loc[income_v2['sex'] == 'Male'].corr(method=pearsonr_pval)"
      ],
      "execution_count": 52,
      "outputs": [
        {
          "output_type": "execute_result",
          "data": {
            "text/html": [
              "<div>\n",
              "<style scoped>\n",
              "    .dataframe tbody tr th:only-of-type {\n",
              "        vertical-align: middle;\n",
              "    }\n",
              "\n",
              "    .dataframe tbody tr th {\n",
              "        vertical-align: top;\n",
              "    }\n",
              "\n",
              "    .dataframe thead th {\n",
              "        text-align: right;\n",
              "    }\n",
              "</style>\n",
              "<table border=\"1\" class=\"dataframe\">\n",
              "  <thead>\n",
              "    <tr style=\"text-align: right;\">\n",
              "      <th></th>\n",
              "      <th>age</th>\n",
              "      <th>fnlwgt</th>\n",
              "      <th>education_num</th>\n",
              "      <th>hours_per_week</th>\n",
              "      <th>change_in_capital</th>\n",
              "    </tr>\n",
              "  </thead>\n",
              "  <tbody>\n",
              "    <tr>\n",
              "      <th>age</th>\n",
              "      <td>1.000000e+00</td>\n",
              "      <td>5.236786e-42</td>\n",
              "      <td>4.022987e-19</td>\n",
              "      <td>4.693983e-07</td>\n",
              "      <td>3.513598e-31</td>\n",
              "    </tr>\n",
              "    <tr>\n",
              "      <th>fnlwgt</th>\n",
              "      <td>5.236786e-42</td>\n",
              "      <td>1.000000e+00</td>\n",
              "      <td>2.535155e-11</td>\n",
              "      <td>1.790163e-09</td>\n",
              "      <td>9.777572e-01</td>\n",
              "    </tr>\n",
              "    <tr>\n",
              "      <th>education_num</th>\n",
              "      <td>4.022987e-19</td>\n",
              "      <td>2.535155e-11</td>\n",
              "      <td>1.000000e+00</td>\n",
              "      <td>1.734252e-91</td>\n",
              "      <td>1.767464e-84</td>\n",
              "    </tr>\n",
              "    <tr>\n",
              "      <th>hours_per_week</th>\n",
              "      <td>4.693983e-07</td>\n",
              "      <td>1.790163e-09</td>\n",
              "      <td>1.734252e-91</td>\n",
              "      <td>1.000000e+00</td>\n",
              "      <td>5.686147e-32</td>\n",
              "    </tr>\n",
              "    <tr>\n",
              "      <th>change_in_capital</th>\n",
              "      <td>3.513598e-31</td>\n",
              "      <td>9.777572e-01</td>\n",
              "      <td>1.767464e-84</td>\n",
              "      <td>5.686147e-32</td>\n",
              "      <td>1.000000e+00</td>\n",
              "    </tr>\n",
              "  </tbody>\n",
              "</table>\n",
              "</div>"
            ],
            "text/plain": [
              "                            age  ...  change_in_capital\n",
              "age                1.000000e+00  ...       3.513598e-31\n",
              "fnlwgt             5.236786e-42  ...       9.777572e-01\n",
              "education_num      4.022987e-19  ...       1.767464e-84\n",
              "hours_per_week     4.693983e-07  ...       5.686147e-32\n",
              "change_in_capital  3.513598e-31  ...       1.000000e+00\n",
              "\n",
              "[5 rows x 5 columns]"
            ]
          },
          "metadata": {
            "tags": []
          },
          "execution_count": 52
        }
      ]
    },
    {
      "cell_type": "code",
      "metadata": {
        "colab": {
          "base_uri": "https://localhost:8080/"
        },
        "id": "2Z24NkHtkri3",
        "outputId": "4dacefdb-7c3b-4243-f364-b67b45af904c"
      },
      "source": [
        "## Just to be on the safe side...\r\n",
        "regc = smf.ols('age ~ education_num', data = income_v2.loc[income_v2['sex'] == 'Male']).fit()\r\n",
        "print(regc.summary())"
      ],
      "execution_count": 66,
      "outputs": [
        {
          "output_type": "stream",
          "text": [
            "                            OLS Regression Results                            \n",
            "==============================================================================\n",
            "Dep. Variable:                    age   R-squared:                       0.004\n",
            "Model:                            OLS   Adj. R-squared:                  0.004\n",
            "Method:                 Least Squares   F-statistic:                     80.01\n",
            "Date:                Mon, 08 Feb 2021   Prob (F-statistic):           4.02e-19\n",
            "Time:                        08:30:29   Log-Likelihood:                -87381.\n",
            "No. Observations:               21790   AIC:                         1.748e+05\n",
            "Df Residuals:                   21788   BIC:                         1.748e+05\n",
            "Df Model:                           1                                         \n",
            "Covariance Type:            nonrobust                                         \n",
            "=================================================================================\n",
            "                    coef    std err          t      P>|t|      [0.025      0.975]\n",
            "---------------------------------------------------------------------------------\n",
            "Intercept        36.3649      0.355    102.499      0.000      35.670      37.060\n",
            "education_num     0.3037      0.034      8.945      0.000       0.237       0.370\n",
            "==============================================================================\n",
            "Omnibus:                     1006.180   Durbin-Watson:                   1.993\n",
            "Prob(Omnibus):                  0.000   Jarque-Bera (JB):             1147.399\n",
            "Skew:                           0.559   Prob(JB):                    7.00e-250\n",
            "Kurtosis:                       2.887   Cond. No.                         41.3\n",
            "==============================================================================\n",
            "\n",
            "Warnings:\n",
            "[1] Standard Errors assume that the covariance matrix of the errors is correctly specified.\n"
          ],
          "name": "stdout"
        }
      ]
    },
    {
      "cell_type": "markdown",
      "metadata": {
        "id": "0T3zNH4lg55Z"
      },
      "source": [
        "####Text:"
      ]
    },
    {
      "cell_type": "markdown",
      "metadata": {
        "id": "r2Bsu8dKhaDk"
      },
      "source": [
        "The correlation between education_num and age is stronger for men(0.060486) than for women(-0.017899). As expected, the significance of the correlation between education_num and age is also stronger for men(p=4.022987e-19) than for women(p=6.322895e-2) (we didn't need to test for this, it would have followed by definition). However, note the direction of correlation for women is negative, whilst the direction of correlation for men is positive! These findings can be explained as follows: in the past, due to tradition, more men went to pursue higher education. As such, the direction of correlation between the two variables for women is negative, as the older women were from another time period. Furthermore, the correlation between the two variables for women was weaker than that of men, as the changing of such traditions had more effect on women than on women."
      ]
    },
    {
      "cell_type": "markdown",
      "metadata": {
        "id": "Tz7Bop8HVcm8"
      },
      "source": [
        "###Part D:"
      ]
    },
    {
      "cell_type": "markdown",
      "metadata": {
        "id": "fChV3gVMquly"
      },
      "source": [
        "####Code:"
      ]
    },
    {
      "cell_type": "code",
      "metadata": {
        "colab": {
          "base_uri": "https://localhost:8080/",
          "height": 254
        },
        "id": "bwG1M2t-CtCz",
        "outputId": "f615bdc0-7c0a-4dbb-87fd-0ec1d77d1beb"
      },
      "source": [
        "income_v2['weighted_education_num']=income_v2['fnlwgt']*income_v2['education_num']\r\n",
        "income_v2['weighted_hours_per_week']=income_v2['fnlwgt']*income_v2['hours_per_week']\r\n",
        "##First, check the unweighted case\r\n",
        "income_v2.cov()"
      ],
      "execution_count": 55,
      "outputs": [
        {
          "output_type": "execute_result",
          "data": {
            "text/html": [
              "<div>\n",
              "<style scoped>\n",
              "    .dataframe tbody tr th:only-of-type {\n",
              "        vertical-align: middle;\n",
              "    }\n",
              "\n",
              "    .dataframe tbody tr th {\n",
              "        vertical-align: top;\n",
              "    }\n",
              "\n",
              "    .dataframe thead th {\n",
              "        text-align: right;\n",
              "    }\n",
              "</style>\n",
              "<table border=\"1\" class=\"dataframe\">\n",
              "  <thead>\n",
              "    <tr style=\"text-align: right;\">\n",
              "      <th></th>\n",
              "      <th>age</th>\n",
              "      <th>fnlwgt</th>\n",
              "      <th>education_num</th>\n",
              "      <th>hours_per_week</th>\n",
              "      <th>change_in_capital</th>\n",
              "      <th>weighted_education_num</th>\n",
              "      <th>weighted_hours_per_week</th>\n",
              "    </tr>\n",
              "  </thead>\n",
              "  <tbody>\n",
              "    <tr>\n",
              "      <th>age</th>\n",
              "      <td>1.860614e+02</td>\n",
              "      <td>-1.103507e+05</td>\n",
              "      <td>1.281849e+00</td>\n",
              "      <td>1.158013e+01</td>\n",
              "      <td>7.507258e+03</td>\n",
              "      <td>-7.606371e+05</td>\n",
              "      <td>-2.297511e+06</td>\n",
              "    </tr>\n",
              "    <tr>\n",
              "      <th>fnlwgt</th>\n",
              "      <td>-1.103507e+05</td>\n",
              "      <td>1.114080e+10</td>\n",
              "      <td>-1.172953e+04</td>\n",
              "      <td>-2.446043e+04</td>\n",
              "      <td>7.726928e+05</td>\n",
              "      <td>1.087517e+11</td>\n",
              "      <td>4.446174e+11</td>\n",
              "    </tr>\n",
              "    <tr>\n",
              "      <th>education_num</th>\n",
              "      <td>1.281849e+00</td>\n",
              "      <td>-1.172953e+04</td>\n",
              "      <td>6.618890e+00</td>\n",
              "      <td>4.705338e+00</td>\n",
              "      <td>2.247151e+03</td>\n",
              "      <td>1.178453e+06</td>\n",
              "      <td>4.066383e+05</td>\n",
              "    </tr>\n",
              "    <tr>\n",
              "      <th>hours_per_week</th>\n",
              "      <td>1.158013e+01</td>\n",
              "      <td>-2.446043e+04</td>\n",
              "      <td>4.705338e+00</td>\n",
              "      <td>1.524590e+02</td>\n",
              "      <td>6.880078e+03</td>\n",
              "      <td>6.343728e+05</td>\n",
              "      <td>2.678528e+07</td>\n",
              "    </tr>\n",
              "    <tr>\n",
              "      <th>change_in_capital</th>\n",
              "      <td>7.507258e+03</td>\n",
              "      <td>7.726928e+05</td>\n",
              "      <td>2.247151e+03</td>\n",
              "      <td>6.880078e+03</td>\n",
              "      <td>5.489309e+07</td>\n",
              "      <td>4.424141e+08</td>\n",
              "      <td>1.430658e+09</td>\n",
              "    </tr>\n",
              "    <tr>\n",
              "      <th>weighted_education_num</th>\n",
              "      <td>-7.606371e+05</td>\n",
              "      <td>1.087517e+11</td>\n",
              "      <td>1.178453e+06</td>\n",
              "      <td>6.343728e+05</td>\n",
              "      <td>4.424141e+08</td>\n",
              "      <td>1.390253e+12</td>\n",
              "      <td>4.558904e+12</td>\n",
              "    </tr>\n",
              "    <tr>\n",
              "      <th>weighted_hours_per_week</th>\n",
              "      <td>-2.297511e+06</td>\n",
              "      <td>4.446174e+11</td>\n",
              "      <td>4.066383e+05</td>\n",
              "      <td>2.678528e+07</td>\n",
              "      <td>1.430658e+09</td>\n",
              "      <td>4.558904e+12</td>\n",
              "      <td>2.450618e+13</td>\n",
              "    </tr>\n",
              "  </tbody>\n",
              "</table>\n",
              "</div>"
            ],
            "text/plain": [
              "                                  age  ...  weighted_hours_per_week\n",
              "age                      1.860614e+02  ...            -2.297511e+06\n",
              "fnlwgt                  -1.103507e+05  ...             4.446174e+11\n",
              "education_num            1.281849e+00  ...             4.066383e+05\n",
              "hours_per_week           1.158013e+01  ...             2.678528e+07\n",
              "change_in_capital        7.507258e+03  ...             1.430658e+09\n",
              "weighted_education_num  -7.606371e+05  ...             4.558904e+12\n",
              "weighted_hours_per_week -2.297511e+06  ...             2.450618e+13\n",
              "\n",
              "[7 rows x 7 columns]"
            ]
          },
          "metadata": {
            "tags": []
          },
          "execution_count": 55
        }
      ]
    },
    {
      "cell_type": "markdown",
      "metadata": {
        "id": "p423JXAetWJQ"
      },
      "source": [
        "####Text:"
      ]
    },
    {
      "cell_type": "markdown",
      "metadata": {
        "id": "Q7fIY5bLtFdt"
      },
      "source": [
        "We can see that the unweighted variance and covariance between education_num and hours_per_week is much lower than the weighted variance and covariance between education_num and hours_per_week."
      ]
    },
    {
      "cell_type": "markdown",
      "metadata": {
        "id": "Nm-tWEfEVfAD"
      },
      "source": [
        "#Regression:"
      ]
    },
    {
      "cell_type": "markdown",
      "metadata": {
        "id": "lIzPxsG1xTy6"
      },
      "source": [
        "## Code (for Initial Regression Model):\r\n"
      ]
    },
    {
      "cell_type": "code",
      "metadata": {
        "colab": {
          "base_uri": "https://localhost:8080/"
        },
        "id": "46HPoYYBP1ZO",
        "outputId": "bfa5802c-f28b-40e6-89e7-3b32bca89392"
      },
      "source": [
        "reg1 = smf.ols('hours_per_week ~ sex', data = income_v2).fit()\r\n",
        "print(reg1.summary())"
      ],
      "execution_count": 58,
      "outputs": [
        {
          "output_type": "stream",
          "text": [
            "                            OLS Regression Results                            \n",
            "==============================================================================\n",
            "Dep. Variable:         hours_per_week   R-squared:                       0.053\n",
            "Model:                            OLS   Adj. R-squared:                  0.053\n",
            "Method:                 Least Squares   F-statistic:                     1807.\n",
            "Date:                Mon, 08 Feb 2021   Prob (F-statistic):               0.00\n",
            "Time:                        04:23:36   Log-Likelihood:            -1.2716e+05\n",
            "No. Observations:               32561   AIC:                         2.543e+05\n",
            "Df Residuals:                   32559   BIC:                         2.543e+05\n",
            "Df Model:                           1                                         \n",
            "Covariance Type:            nonrobust                                         \n",
            "===============================================================================\n",
            "                  coef    std err          t      P>|t|      [0.025      0.975]\n",
            "-------------------------------------------------------------------------------\n",
            "Intercept      36.4104      0.116    314.412      0.000      36.183      36.637\n",
            "sex[T.Male]     6.0177      0.142     42.510      0.000       5.740       6.295\n",
            "==============================================================================\n",
            "Omnibus:                     2649.390   Durbin-Watson:                   2.019\n",
            "Prob(Omnibus):                  0.000   Jarque-Bera (JB):            13090.867\n",
            "Skew:                           0.239   Prob(JB):                         0.00\n",
            "Kurtosis:                       6.069   Cond. No.                         3.24\n",
            "==============================================================================\n",
            "\n",
            "Warnings:\n",
            "[1] Standard Errors assume that the covariance matrix of the errors is correctly specified.\n"
          ],
          "name": "stdout"
        }
      ]
    },
    {
      "cell_type": "markdown",
      "metadata": {
        "id": "ebrHQ97OxTvj"
      },
      "source": [
        "## Part A:"
      ]
    },
    {
      "cell_type": "markdown",
      "metadata": {
        "id": "h_xFwqID4KMv"
      },
      "source": [
        "From the plot above, we can see that males tend to work more hours (We can see this because the coefficient in front of sex[T.Male] is positive). To be precise, men tend to work about 6 more hours than their female counterparts."
      ]
    },
    {
      "cell_type": "markdown",
      "metadata": {
        "id": "9PMEj-rRPV0B"
      },
      "source": [
        "## Part B:"
      ]
    },
    {
      "cell_type": "markdown",
      "metadata": {
        "id": "WxE0KCd67Ifh"
      },
      "source": [
        "####Code:"
      ]
    },
    {
      "cell_type": "code",
      "metadata": {
        "colab": {
          "base_uri": "https://localhost:8080/"
        },
        "id": "mJtdJYQ464g7",
        "outputId": "8e8ea8d2-aafe-4dc3-838b-7305834e1687"
      },
      "source": [
        "reg2 = smf.ols('hours_per_week ~ education_num + sex ', data = income_v2).fit()\r\n",
        "print(reg2.summary())"
      ],
      "execution_count": 59,
      "outputs": [
        {
          "output_type": "stream",
          "text": [
            "                            OLS Regression Results                            \n",
            "==============================================================================\n",
            "Dep. Variable:         hours_per_week   R-squared:                       0.074\n",
            "Model:                            OLS   Adj. R-squared:                  0.074\n",
            "Method:                 Least Squares   F-statistic:                     1295.\n",
            "Date:                Mon, 08 Feb 2021   Prob (F-statistic):               0.00\n",
            "Time:                        04:35:02   Log-Likelihood:            -1.2680e+05\n",
            "No. Observations:               32561   AIC:                         2.536e+05\n",
            "Df Residuals:                   32558   BIC:                         2.536e+05\n",
            "Df Model:                           2                                         \n",
            "Covariance Type:            nonrobust                                         \n",
            "=================================================================================\n",
            "                    coef    std err          t      P>|t|      [0.025      0.975]\n",
            "---------------------------------------------------------------------------------\n",
            "Intercept        29.4106      0.281    104.556      0.000      28.859      29.962\n",
            "sex[T.Male]       5.9709      0.140     42.653      0.000       5.697       6.245\n",
            "education_num     0.6975      0.026     27.244      0.000       0.647       0.748\n",
            "==============================================================================\n",
            "Omnibus:                     2783.881   Durbin-Watson:                   2.018\n",
            "Prob(Omnibus):                  0.000   Jarque-Bera (JB):            14492.060\n",
            "Skew:                           0.247   Prob(JB):                         0.00\n",
            "Kurtosis:                       6.231   Cond. No.                         45.6\n",
            "==============================================================================\n",
            "\n",
            "Warnings:\n",
            "[1] Standard Errors assume that the covariance matrix of the errors is correctly specified.\n"
          ],
          "name": "stdout"
        }
      ]
    },
    {
      "cell_type": "markdown",
      "metadata": {
        "id": "SST0uq1d7K5Z"
      },
      "source": [
        "####Text:"
      ]
    },
    {
      "cell_type": "markdown",
      "metadata": {
        "id": "du6Vnu7O7Csx"
      },
      "source": [
        "The trend in hours worked by men vs women remains relatively the same after the addition of education_num. The education_num variable isn't particularly impactful, as its coefficient (0.6975) is much less than the sex coefficient (5.9709), however, statistically speaking, it is still significant. This is because if we were to examine the interval (coef-std err, coef+std err)=(0.6975-0.026, 0.6975+0.026), we would see that 0 is not included in the interval and as such, this variable still matters, but to a much smaller extent."
      ]
    },
    {
      "cell_type": "markdown",
      "metadata": {
        "id": "7mTfmnN0PYJC"
      },
      "source": [
        "##Part C:"
      ]
    },
    {
      "cell_type": "markdown",
      "metadata": {
        "id": "1DCmA_LjBfF1"
      },
      "source": [
        "####Code:"
      ]
    },
    {
      "cell_type": "code",
      "metadata": {
        "colab": {
          "base_uri": "https://localhost:8080/"
        },
        "id": "GRsg9dpbBjOu",
        "outputId": "581df7d4-d226-406a-fa46-2052051b6c67"
      },
      "source": [
        "reg3 = smf.ols('hours_per_week ~ education_num + sex + gross_income_group ', data = income_v2).fit()\r\n",
        "print(reg3.summary())"
      ],
      "execution_count": 60,
      "outputs": [
        {
          "output_type": "stream",
          "text": [
            "                            OLS Regression Results                            \n",
            "==============================================================================\n",
            "Dep. Variable:         hours_per_week   R-squared:                       0.094\n",
            "Model:                            OLS   Adj. R-squared:                  0.094\n",
            "Method:                 Least Squares   F-statistic:                     1130.\n",
            "Date:                Mon, 08 Feb 2021   Prob (F-statistic):               0.00\n",
            "Time:                        05:04:24   Log-Likelihood:            -1.2643e+05\n",
            "No. Observations:               32561   AIC:                         2.529e+05\n",
            "Df Residuals:                   32557   BIC:                         2.529e+05\n",
            "Df Model:                           3                                         \n",
            "Covariance Type:            nonrobust                                         \n",
            "==============================================================================================\n",
            "                                 coef    std err          t      P>|t|      [0.025      0.975]\n",
            "----------------------------------------------------------------------------------------------\n",
            "Intercept                     31.4218      0.288    109.184      0.000      30.858      31.986\n",
            "sex[T.Male]                    5.1010      0.142     35.907      0.000       4.823       5.379\n",
            "gross_income_group[T.>50K]     4.5175      0.166     27.229      0.000       4.192       4.843\n",
            "education_num                  0.4478      0.027     16.632      0.000       0.395       0.501\n",
            "==============================================================================\n",
            "Omnibus:                     2984.190   Durbin-Watson:                   2.015\n",
            "Prob(Omnibus):                  0.000   Jarque-Bera (JB):            15467.160\n",
            "Skew:                           0.296   Prob(JB):                         0.00\n",
            "Kurtosis:                       6.324   Cond. No.                         48.1\n",
            "==============================================================================\n",
            "\n",
            "Warnings:\n",
            "[1] Standard Errors assume that the covariance matrix of the errors is correctly specified.\n"
          ],
          "name": "stdout"
        }
      ]
    },
    {
      "cell_type": "markdown",
      "metadata": {
        "id": "3Ubfu3jYBgSG"
      },
      "source": [
        "####Text:"
      ]
    },
    {
      "cell_type": "markdown",
      "metadata": {
        "id": "tzdbRVjIDN6K"
      },
      "source": [
        "Of the three models, the model with 1 variable had the smallest R^2 value, which implies that it most closely models the data. This is probably due to the fact that we didn't remove any of the outliers from our data earlier. It's very hard to account for outliers because sometimes data points that appear to be outliers actually tell a valuable story upon further investigation. This was the primary reason why I did not remove the so-called outliers from my original data.\r\n",
        "\r\n",
        "In terms of a model fitting procedure, we would randomly split all of our observations into two groups: a testing group and a training group. Then, we would feed an algorithm our training group to allow it to produce a model. Afterwards, we would use the testing group on the training group and compare how accurate our model is."
      ]
    },
    {
      "cell_type": "markdown",
      "metadata": {
        "id": "ExsgEpOWVgul"
      },
      "source": [
        "#Report:"
      ]
    },
    {
      "cell_type": "markdown",
      "metadata": {
        "id": "62RM3iukx4uS"
      },
      "source": [
        "Please see the pdf report for this homework (i.e., \"JSC270 Assignment 2 Report.pdf\")."
      ]
    },
    {
      "cell_type": "markdown",
      "metadata": {
        "id": "FvPQzKivVj0I"
      },
      "source": [
        "#Presentation:"
      ]
    },
    {
      "cell_type": "markdown",
      "metadata": {
        "id": "brAGK-5fxcIT"
      },
      "source": [
        "At the time of submission, no recording is available yet. Sorry for incovenience."
      ]
    },
    {
      "cell_type": "markdown",
      "metadata": {
        "id": "I-opCxBKxYJo"
      },
      "source": [
        "#Bonus Question:"
      ]
    },
    {
      "cell_type": "markdown",
      "metadata": {
        "id": "lBqhiJ-0xotr"
      },
      "source": [
        "Please see the pdf answers for this homework. (i.e., \"JSC270 Assignment 2 Answers.pdf\")."
      ]
    }
  ]
}